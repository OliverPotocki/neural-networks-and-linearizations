{
  "cells": [
    {
      "cell_type": "markdown",
      "metadata": {
        "id": "o_B-UEmMJ9ij"
      },
      "source": [
        "# When Do Neural Networks Outperform Kernel Methods?\n",
        "\n",
        "\n"
      ]
    },
    {
      "cell_type": "markdown",
      "metadata": {
        "id": "FGYvz1yAtHYs"
      },
      "source": [
        "\n",
        "==============================\n",
        "\n",
        "<!-- ACKNOWLEDGMENTS -->\n",
        "## Acknowledgments\n",
        "\n",
        "The ideas behind this code are based on research done in the paper [B. Ghorbani, S. Mei,T. Misiakiewicz, A. Montanari. When Do Neural Networks Outperform Kernel Methods? *arXiv preprint*, 2021](https://arxiv.org/abs/2006.13409).\n",
        "\n",
        "<!-- PROJECT -->\n",
        "## Goal\n",
        "\n",
        "The goal is to investigate and compare the performance of neural networks and kernel ridge regression in dependence on noisy data and data determined by low dimensional projections.\n",
        "\n",
        "<!-- TABLE OF CONTENTS -->\n",
        "## Structure of notebook\n",
        "1. [Imports](#imports)\n",
        "2. [Initial random state](#randomstate)\n",
        "3. [Plotting functions](#plotting)\n",
        "4. [Data](#data)\n",
        "5. [Models](#models)\n",
        "6. [Noise data experiments](#noise)\n",
        "7. [Synthetic data experiments](#synthetic)\n",
        "\n",
        "\n",
        "\n"
      ]
    },
    {
      "cell_type": "markdown",
      "metadata": {
        "id": "gYjCplRIKaKL"
      },
      "source": [
        "## Imports <a name=\"imports\"></a>"
      ]
    },
    {
      "cell_type": "code",
      "execution_count": 1,
      "metadata": {
        "id": "6TgOhTDIw6Zz"
      },
      "outputs": [],
      "source": [
        "# -----------------------------------------------------------\n",
        "# When Do Neural Networks Outperform Kernel Methods?\n",
        "#\n",
        "# 2021 Oliver Potocki, Bonn, Germany\n",
        "# email oliver.potocki@gmail.com\n",
        "# -----------------------------------------------------------"
      ]
    },
    {
      "cell_type": "code",
      "source": [
        "%%capture\n",
        "!pip install neural_tangents\n",
        "!pip install optax"
      ],
      "metadata": {
        "id": "DoOHXmTFBI2X"
      },
      "execution_count": 2,
      "outputs": []
    },
    {
      "cell_type": "code",
      "execution_count": 3,
      "metadata": {
        "id": "sSQRpgMnUzzj"
      },
      "outputs": [],
      "source": [
        "%matplotlib inline\n",
        "\n",
        "import time\n",
        "from functools import partial\n",
        "from typing import Any, Callable, Dict, Iterable, List, Optional, Tuple, Union\n",
        "\n",
        "import jax\n",
        "import jax.numpy as jnp\n",
        "import matplotlib.pyplot as plt\n",
        "import neural_tangents as nt\n",
        "import numpy as np\n",
        "import optax\n",
        "import pickle\n",
        "import requests\n",
        "import scipy as sc\n",
        "import seaborn as sns\n",
        "import torch as th\n",
        "from jax import grad, jit, pmap, random, value_and_grad, vmap\n",
        "from neural_tangents import stax\n",
        "from scipy.fftpack import dct, idct\n",
        "from sklearn.model_selection import train_test_split\n",
        "from torch.utils.data import DataLoader, Dataset\n",
        "from torchvision.datasets import MNIST"
      ]
    },
    {
      "cell_type": "markdown",
      "metadata": {
        "id": "2QlZ3t5tbamC"
      },
      "source": [
        "JAX allows us to write accelerator agnostic code, which means we can run the same code on a CPU, GPU or TPU without any changes. \n",
        "\n",
        "A TPU offers potential increases in performance due to its strong parallelization potential."
      ]
    },
    {
      "cell_type": "code",
      "execution_count": 4,
      "metadata": {
        "colab": {
          "base_uri": "https://localhost:8080/"
        },
        "id": "H05j9L8grxRO",
        "outputId": "07c4e145-71ac-4e1c-f6dd-5cb03dc45f57"
      },
      "outputs": [
        {
          "output_type": "stream",
          "name": "stdout",
          "text": [
            "The utilized device is of type gpu.\n",
            "There 1 cores at disposal.\n"
          ]
        }
      ],
      "source": [
        "# Uncomment to utilize TPUs in colab\n",
        "\n",
        "# import jax.tools.colab_tpu\n",
        "# jax.tools.colab_tpu.setup_tpu()\n",
        "print(\n",
        "    \"The utilized device is of type {}.\".format(jax.default_backend())\n",
        ")  # Check type of device\n",
        "print(\n",
        "    \"There {} cores at disposal.\".format(jax.local_device_count())\n",
        ")  # Check number of cores"
      ]
    },
    {
      "cell_type": "code",
      "execution_count": 5,
      "metadata": {
        "id": "Rdgi6hUj45G0"
      },
      "outputs": [],
      "source": [
        "Array = Any\n",
        "KeyArray = Array"
      ]
    },
    {
      "cell_type": "markdown",
      "metadata": {
        "id": "JW1O03apKeIo"
      },
      "source": [
        "## Initial random state <a name=\"randomstate\"></a>"
      ]
    },
    {
      "cell_type": "markdown",
      "metadata": {
        "id": "mH2_TEMUSJVQ"
      },
      "source": [
        "JAX is meant to be a stateless and functional framework. To achieve this we have to explicitely handle the random state and give it as an argument to each random variable.\n",
        "\n",
        "This makes JAX functions parallelizable, vectorializable and reproduceable.\n",
        "\n",
        "From a mathematical point of view this is like making a random variable deterministic by fixing the element from the sigma algebra $\\omega:$ We think of $f(\\omega;x)$."
      ]
    },
    {
      "cell_type": "code",
      "execution_count": 6,
      "metadata": {
        "id": "j9fllLsNeSgh"
      },
      "outputs": [],
      "source": [
        "key = random.PRNGKey(42)"
      ]
    },
    {
      "cell_type": "markdown",
      "metadata": {
        "id": "P1-aGqMGqv1U"
      },
      "source": [
        "## Plotting functions <a name=\"plotting\"></a>"
      ]
    },
    {
      "cell_type": "markdown",
      "metadata": {
        "id": "RtIhl00VUHvv"
      },
      "source": [
        "We set some global variables for plotting first."
      ]
    },
    {
      "cell_type": "code",
      "execution_count": 7,
      "metadata": {
        "id": "s4c1gRxZfV_m"
      },
      "outputs": [],
      "source": [
        "plt.rcParams[\"figure.figsize\"] = [15, 10]\n",
        "plt.rcParams[\"font.weight\"] = \"bold\""
      ]
    },
    {
      "cell_type": "markdown",
      "metadata": {
        "id": "ZZVVGTYNUL4i"
      },
      "source": [
        "Define a function for lotting the results of either neural network training or a single experiment run."
      ]
    },
    {
      "cell_type": "code",
      "execution_count": 8,
      "metadata": {
        "id": "vGYGZ_EsrHn7"
      },
      "outputs": [],
      "source": [
        "def plt_nn_training(\n",
        "    train_loss: List,\n",
        "    test_loss: List,\n",
        "    train_acc: Optional[List] = None,\n",
        "    test_acc: Optional[List] = None,\n",
        ") -> None:\n",
        "    \"\"\"\n",
        "    Plots the logged performance of neural network training, either solely \n",
        "    the MSE loss used for optimization or optionally also the accuracy.\n",
        "\n",
        "    Args:\n",
        "      train_loss:\n",
        "        Loss on training data logged initially and after each epoch.\n",
        "      test_loss: \n",
        "        Loss on test data logged initially and after each epoch.\n",
        "      train_acc:\n",
        "        Accuracy on training data logged initially and after each epoch.\n",
        "      test_acc:\n",
        "        Accuracy on test data logged initially and after each epoch.\n",
        "    \"\"\"\n",
        "\n",
        "    sns.set_style(\"darkgrid\")\n",
        "\n",
        "    fig = plt.figure()\n",
        "\n",
        "    fontdict = {\"fontsize\": 20, \"weight\": \"bold\"}\n",
        "\n",
        "    fontdicty = {\n",
        "        \"fontsize\": 18,\n",
        "        \"weight\": \"bold\",\n",
        "        \"verticalalignment\": \"baseline\",\n",
        "        \"horizontalalignment\": \"center\",\n",
        "    }\n",
        "\n",
        "    fontdictx = {\"fontsize\": 18, \"weight\": \"bold\", \"horizontalalignment\": \"center\"}\n",
        "\n",
        "    plt.subplots_adjust(wspace=0.2, hspace=0.2)\n",
        "\n",
        "    fig.suptitle(\n",
        "        \"Neural Network performance during training\",\n",
        "        fontsize=25,\n",
        "        fontweight=\"bold\",\n",
        "        color=\"black\",\n",
        "        position=(0.5, 1.01),\n",
        "    )\n",
        "\n",
        "    ax1 = fig.add_subplot(221)\n",
        "    ax1.plot(train_loss, c=\"green\")\n",
        "    ax1.set_title(\"NN Train Error\", fontdict=fontdict, color=\"black\")\n",
        "\n",
        "    ax2 = fig.add_subplot(222)\n",
        "    ax2.plot(test_loss, c=\"orange\")\n",
        "    ax2.set_title(\"NN Test Error\", fontdict=fontdict, color=\"black\")\n",
        "    if train_acc is None:\n",
        "        ax2.set_xlabel(\"Epochs\", fontdict=fontdictx, position=(-0.1, 0))\n",
        "\n",
        "    if train_acc is not None:\n",
        "        ax3 = fig.add_subplot(223)\n",
        "        ax3.plot(train_acc, c=\"brown\")\n",
        "        ax3.set_title(\"Train Accuracy\", fontdict=fontdict, color=\"black\")\n",
        "\n",
        "    if test_acc is not None:\n",
        "        ax4 = fig.add_subplot(224)\n",
        "        ax4.plot(test_acc, c=\"blue\")\n",
        "        ax4.set_title(\"Test Accuracy\", fontdict=fontdict, color=\"black\")\n",
        "        ax4.set_xlabel(\"Epochs\", fontdict=fontdictx, position=(-0.1, 0))"
      ]
    },
    {
      "cell_type": "code",
      "execution_count": 9,
      "metadata": {
        "id": "8l2a_toHXFCG"
      },
      "outputs": [],
      "source": [
        "def plt_noise_experiment(nn_test_acc, ntk_test_acc, krr_test_acc,) -> None:\n",
        "    \"\"\"\n",
        "    Plots the logged test accuracy a neural network, its associated neural tangent kernel\n",
        "    and kernel ridge regression after each experiment run.\n",
        "\n",
        "    Args:\n",
        "      nn_test_acc:\n",
        "        Test accuracy of a trained neural network.\n",
        "      ntn_test_acc: \n",
        "        Test accuracy of a neural tangent kernel.\n",
        "      krr_test_acc:\n",
        "        Test accuracy of a kernel ridge regression.\n",
        "    \"\"\"\n",
        "\n",
        "    length = len(nn_test_acc)\n",
        "    middle_index = length // 2\n",
        "\n",
        "    nn_lf = nn_test_acc[:middle_index]\n",
        "    ntk_lf = ntk_test_acc[:middle_index]\n",
        "    krr_lf = krr_test_acc[:middle_index]\n",
        "    nn_hf = nn_test_acc[:middle_index]\n",
        "    ntk_hf = ntk_test_acc[:middle_index]\n",
        "    krr_hf = krr_test_acc[:middle_index]\n",
        "\n",
        "    sns.set_style(\"darkgrid\")\n",
        "\n",
        "    fig = plt.figure()\n",
        "\n",
        "    fontdict = {\"fontsize\": 20, \"weight\": \"bold\"}\n",
        "\n",
        "    fontdicty = {\n",
        "        \"fontsize\": 18,\n",
        "        \"weight\": \"bold\",\n",
        "        \"verticalalignment\": \"baseline\",\n",
        "        \"horizontalalignment\": \"center\",\n",
        "    }\n",
        "\n",
        "    fontdictx = {\"fontsize\": 18, \"weight\": \"bold\", \"horizontalalignment\": \"center\"}\n",
        "\n",
        "    plt.subplots_adjust(wspace=0.2, hspace=0.2)\n",
        "\n",
        "    fig.suptitle(\n",
        "        \"Noise experiment\",\n",
        "        fontsize=25,\n",
        "        fontweight=\"bold\",\n",
        "        color=\"black\",\n",
        "        position=(0.5, 1.01),\n",
        "    )\n",
        "\n",
        "    ax1 = fig.add_subplot(221)\n",
        "    ax1.plot(nn_lf, c=\"blue\", label=\"nn test error\")\n",
        "    ax1.plot(ntk_lf, c=\"orange\", label=\"ntk test error\")\n",
        "    ax1.plot(krr_lf, c=\"green\", label=\"krr test error\")\n",
        "    ax1.set_title(\"Low Frequency Noise\", fontdict=fontdict, color=\"black\")\n",
        "    ax1.set_ylabel(\"Accuracy\", fontdict=fontdictx, position=(-0.1, 0.5))\n",
        "    ax1.set_xlabel(\"Tau\", fontdict=fontdictx, position=(-0.1, 0.5))\n",
        "    ax1.legend(facecolor='white', framealpha=1)\n",
        "\n",
        "    ax2 = fig.add_subplot(222)\n",
        "    ax2.plot(nn_hf, c=\"blue\", label=\"nn test error\")\n",
        "    ax2.plot(ntk_hf, c=\"orange\", label=\"ntk test error\")\n",
        "    ax2.plot(krr_hf, c=\"green\", label=\"krr test error\")\n",
        "    ax2.set_title(\"High Frequency Noise\", fontdict=fontdict, color=\"black\")\n",
        "    ax2.set_ylabel(\"Accuracy\", fontdict=fontdictx, position=(-0.1, 0.5))\n",
        "    ax2.set_xlabel(\"Tau\", fontdict=fontdictx, position=(-0.1, 0.5))\n",
        "    ax2.legend(facecolor='white', framealpha=1)"
      ]
    },
    {
      "cell_type": "code",
      "execution_count": 10,
      "metadata": {
        "id": "tobhwT06iXcb"
      },
      "outputs": [],
      "source": [
        "def plt_synth_experiment(nn_test_error, ntk_test_error, krr_test_error) -> None:\n",
        "    \"\"\"\n",
        "    Plots the logged test error of a neural network, its associated neural tangent kernel\n",
        "    and kernel ridge regression after each experiment run.\n",
        "\n",
        "    Args:\n",
        "      nn_test_acc:\n",
        "        Test error of a trained neural network.\n",
        "      ntn_test_acc: \n",
        "        Test error of a neural tangent kernel.\n",
        "      krr_test_acc:\n",
        "        Test error of a kernel ridge regression.\n",
        "    \"\"\"\n",
        "\n",
        "    sns.set_style(\"darkgrid\")\n",
        "\n",
        "    fig = plt.figure()\n",
        "\n",
        "    fontdict = {\"fontsize\": 20, \"weight\": \"bold\"}\n",
        "\n",
        "    fontdicty = {\n",
        "        \"fontsize\": 18,\n",
        "        \"weight\": \"bold\",\n",
        "        \"verticalalignment\": \"baseline\",\n",
        "        \"horizontalalignment\": \"center\",\n",
        "    }\n",
        "\n",
        "    fontdictx = {\"fontsize\": 18, \"weight\": \"bold\", \"horizontalalignment\": \"center\"}\n",
        "\n",
        "    plt.subplots_adjust(wspace=0.2, hspace=0.2)\n",
        "\n",
        "    fig.suptitle(\n",
        "        \"Synthetic data experiment\",\n",
        "        fontsize=25,\n",
        "        fontweight=\"bold\",\n",
        "        color=\"black\",\n",
        "        position=(0.5, 1.01),\n",
        "    )\n",
        "\n",
        "    ax1 = fig.add_subplot(221)\n",
        "    ax1.plot(nn_test_error, c=\"blue\", label=\"nn test error\")\n",
        "    ax1.plot(ntk_test_error, c=\"orange\", label=\"ntk test error\")\n",
        "    ax1.plot(krr_test_error, c=\"green\", label=\"krr test error\")\n",
        "    ax1.set_ylabel(\"MSE\", fontdict=fontdictx, position=(-0.1, 0.5))\n",
        "    ax1.set_xlabel(\"Kappa\", fontdict=fontdictx, position=(-0.1, 0.5))\n",
        "    ax1.legend(facecolor='white', framealpha=1)"
      ]
    },
    {
      "cell_type": "markdown",
      "metadata": {
        "id": "JjiYeggrUT3J"
      },
      "source": [
        "\n",
        "\n",
        "Define a function for showing ten randomly chosen images from the MNIST dataset."
      ]
    },
    {
      "cell_type": "code",
      "execution_count": 11,
      "metadata": {
        "id": "ORBZVWbZq4L3"
      },
      "outputs": [],
      "source": [
        "def show_ten_random(images: Array, targets: Array) -> None:\n",
        "    \"\"\"Show ten random labeled images from the dataset\"\"\"\n",
        "    sns.set_style(\"dark\")\n",
        "    idx = np.random.choice(len(images), 10)\n",
        "    num_row = 2\n",
        "    num_col = 5\n",
        "    fig, axes = plt.subplots(num_row, num_col, figsize=(1.5 * num_col, 2 * num_row))\n",
        "    for i in range(num_row * num_col):\n",
        "        ax = axes[i // num_col, i % num_col]\n",
        "        ax.imshow(images[idx[i]].reshape((28, 28)), cmap=\"gray\")\n",
        "        ax.set_title(\"Target: {}\".format(targets[idx[i]]), fontsize=16)\n",
        "        ax.xaxis.set_visible(False)\n",
        "        ax.yaxis.set_visible(False)\n",
        "    plt.tight_layout()\n",
        "    plt.show()"
      ]
    },
    {
      "cell_type": "markdown",
      "metadata": {
        "id": "5FDUP9h0KkM1"
      },
      "source": [
        "## Data <a name=\"data\"></a>"
      ]
    },
    {
      "cell_type": "markdown",
      "metadata": {
        "id": "-zjqffQ1rLr9"
      },
      "source": [
        "### Define custom Pytorch Datasets"
      ]
    },
    {
      "cell_type": "markdown",
      "metadata": {
        "id": "7V1IS7yiSD-s"
      },
      "source": [
        "We define several child classes of Pytorch datasets. The reason we do this  is because Pytorch Dataloaders allow us to select batches very fast.\n",
        "\n",
        "The reduced dataset serves has a way to proportionally shrink a given dataset. This is important for training on low RAM as kernel ridge regression is very memory intensive.\n",
        "\n",
        "JAX itself has no dataset or loading capabilities, which is natural for a functional frameworks and unnessary as there already very good alternatives.\n",
        "\n",
        "<br/>\n",
        "\n",
        "It has to be stressed that the dataformat is critical for performance. In the following functions we use original numpy instead of the JAX numpy, because from empirical observations the network trains faster this way.\n",
        "\n",
        "A possible explanation is the increased overhead for transfering a JAX DeviceArray from the accelerator, e.g. the GPU, to the CPU. This further highlights that using JAX one has to be highly cognizant of the data flow."
      ]
    },
    {
      "cell_type": "code",
      "execution_count": 12,
      "metadata": {
        "id": "dMoKVPKreYzn"
      },
      "outputs": [],
      "source": [
        "# The data has to be converted from Pytorch tensors to numpy arrays\n",
        "# when given out so that JAX is able to train on them.\n",
        "def flattened_numpy(x: Array):\n",
        "    return np.ravel(np.array(x))\n",
        "\n",
        "\n",
        "def collate_fn(batch: Array):\n",
        "    transposed_data = list(zip(*batch))\n",
        "    targets = np.array(transposed_data[1])\n",
        "    images = np.stack(transposed_data[0])\n",
        "    return images, targets"
      ]
    },
    {
      "cell_type": "code",
      "execution_count": 13,
      "metadata": {
        "id": "PdOjSakdMcqH"
      },
      "outputs": [],
      "source": [
        "class Reduced(Dataset):\n",
        "    \"\"\"\n",
        "    Pytorch Dataset class that proportionally reduces a given dataset.\n",
        "\n",
        "    Attributes:\n",
        "        dataset: \n",
        "          Dataset to be reduced in size.\n",
        "        reduction: \n",
        "          Factor by which the size should be reduced.\n",
        "    \"\"\"\n",
        "\n",
        "    def __init__(\n",
        "        self,\n",
        "        dataset: Array,\n",
        "        reduction: float = 0.8,\n",
        "        transform: Optional[Callable] = None,\n",
        "        target_transform: Optional[Callable] = None,\n",
        "    ):\n",
        "        # Train-Test split is used to proportionally use the dataset size\n",
        "        reduced_data, _, reduced_targets, _ = train_test_split(\n",
        "            dataset.data, dataset.targets, stratify=dataset.targets, test_size=reduction\n",
        "        )\n",
        "        self.targets = reduced_targets\n",
        "        self.data = reduced_data\n",
        "        self.transform = transform\n",
        "        self.target_transform = target_transform\n",
        "\n",
        "    def __len__(self):\n",
        "        return len(self.targets)\n",
        "\n",
        "    def __getitem__(self, idx: int):\n",
        "        # Always give out the image as flattened numpy for JAX training\n",
        "        image = flattened_numpy(self.data[idx, :])\n",
        "        target = self.targets[idx]\n",
        "        if self.transform:\n",
        "            image = self.transform(image)\n",
        "        if self.target_transform:\n",
        "            target = self.target_transform(target)\n",
        "        return image, target\n",
        "\n",
        "\n",
        "class Imageset(Dataset):\n",
        "    \"\"\"\n",
        "    Generic Pytorch Dataset class.\n",
        "\n",
        "    Attributes:\n",
        "        images: \n",
        "          Image data stored in the data set.\n",
        "        targets: \n",
        "          Targets corresponding to the stored images.\n",
        "    \"\"\"\n",
        "\n",
        "    def __init__(\n",
        "        self,\n",
        "        images: Array,\n",
        "        targets: Array,\n",
        "        transform: Optional[Callable] = None,\n",
        "        target_transform: Optional[Callable] = None,\n",
        "    ):\n",
        "        self.targets = targets\n",
        "        self.data = images\n",
        "        self.transform = transform\n",
        "        self.target_transform = target_transform\n",
        "\n",
        "    def __len__(self):\n",
        "        return len(self.targets)\n",
        "\n",
        "    def __getitem__(self, idx: int):\n",
        "        # Always give out the image as flattened numpy for JAX training\n",
        "        image = flattened_numpy(self.data[idx, :])\n",
        "        target = self.targets[idx]\n",
        "        if self.transform:\n",
        "            image = self.transform(image)\n",
        "        if self.target_transform:\n",
        "            target = self.target_transform(target)\n",
        "        return image, target"
      ]
    },
    {
      "cell_type": "code",
      "execution_count": 14,
      "metadata": {
        "id": "DGtYuoZYXPPK"
      },
      "outputs": [],
      "source": [
        "class SynthDataset(Dataset):\n",
        "    \"\"\"\n",
        "    Synthetic data generated according to spiked covariates model.\n",
        "\n",
        "    Attributes:\n",
        "        key: \n",
        "          Random state for initialization of data.\n",
        "        n: \n",
        "          Number of datapoints to be created.\n",
        "        kappa:\n",
        "          Factor for the per-coordinate variance in the latent space.\n",
        "        d:\n",
        "          Dimension of the feature space.\n",
        "        eta:\n",
        "          Factor for the size of the latent space dimension.\n",
        "    \"\"\"\n",
        "    def __init__(self, key: KeyArray, n: int, kappa: float, d: int = 1024, eta: float = 2.0 / 5.0):\n",
        "        self.data, self.targets = self.gen_synth_data(key, n, kappa, d, eta)\n",
        "\n",
        "    def __len__(self):\n",
        "        return len(self.targets)\n",
        "\n",
        "    def __getitem__(self, idx: int):\n",
        "        data = self.data[idx, :]\n",
        "        target = self.targets[idx]\n",
        "        return data, target\n",
        "\n",
        "    def gen_synth_data(self, key: KeyArray, n: int, kappa: float, d: int, eta: float):\n",
        "        \"\"\"Generate synthetic data depending on low dimensional projection\"\"\"\n",
        "        key, subkey = random.split(key)\n",
        "        d0 = np.int(d ** eta)\n",
        "        r = d ** (eta + kappa / 2.0)\n",
        "        z = random.normal(key=subkey, shape=(n, d))\n",
        "\n",
        "        def rns(z: Array):\n",
        "            return self.radial_norm_split(z, d0, d, r)\n",
        "\n",
        "        batched_radial_norm_split = vmap(rns)\n",
        "        u, v = batched_radial_norm_split(z)\n",
        "        x = jnp.concatenate((u, v), axis=1)\n",
        "        y = self.gen_synth_target(key, u)\n",
        "        return (\n",
        "            np.array(x),\n",
        "            np.array(y),\n",
        "        )  # cast as numpy arrays for compability with Pytorch\n",
        "\n",
        "    def radial_norm_split(self, x: Array, d0: int, d: int, r: float):\n",
        "        u = x[:d0] / jnp.linalg.norm(x[:d0]) * (r * jnp.sqrt(d0))\n",
        "        v = x[d0:] / jnp.linalg.norm(x[d0:]) * jnp.sqrt(d)\n",
        "        return u, v\n",
        "\n",
        "    def gen_synth_target(self, key: KeyArray, u: Array):\n",
        "        \"\"\"Generate targets for synthetic data\"\"\"\n",
        "        d0 = u.shape[1]\n",
        "        key, *keys = random.split(key, 4)\n",
        "        alpha_1 = random.exponential(keys[0], (d0 - 1, 1))\n",
        "        alpha_2 = random.exponential(keys[1], (d0 - 2, 1))\n",
        "        alpha_3 = random.exponential(keys[2], (d0 - 3, 1))\n",
        "\n",
        "        z_1 = jnp.multiply(u[:, :-1], u[:, 1:])\n",
        "        z_2 = jnp.multiply(jnp.multiply(u[:, :-2], u[:, 1:-1]), u[:, 2:])\n",
        "        z_3 = jnp.multiply(\n",
        "            jnp.multiply(jnp.multiply(u[:, :-3], u[:, 1:-2]), u[:, 2:-1]), u[:, 3:]\n",
        "        )\n",
        "\n",
        "        phi_1 = jnp.dot(z_1, alpha_1)\n",
        "        phi_1 = phi_1 / jnp.linalg.norm(phi_1)\n",
        "\n",
        "        phi_2 = jnp.dot(z_2, alpha_2)\n",
        "        phi_2 = phi_2 / jnp.linalg.norm(phi_2)\n",
        "\n",
        "        phi_3 = jnp.dot(z_3, alpha_3)\n",
        "        phi_3 = phi_3 / jnp.linalg.norm(phi_3)\n",
        "\n",
        "        y = phi_1 + phi_2 + phi_3\n",
        "        return y"
      ]
    },
    {
      "cell_type": "code",
      "execution_count": 15,
      "metadata": {
        "id": "t1AO4hdhce5V"
      },
      "outputs": [],
      "source": [
        "def gen_synth(key: KeyArray, kappa: float, n: int, batch_size: int) -> Dict:\n",
        "    \"\"\"\n",
        "    Generates data according to a spiked covariates model.\n",
        "\n",
        "    Args:\n",
        "      key:\n",
        "        Random state for synthetic data generation.\n",
        "      kappa: \n",
        "        Factor for the per-coordinate variance in the latent space..\n",
        "      n:\n",
        "        Number of training and test data to be generated each.\n",
        "      batch_size:\n",
        "        Batch size for neural network training and neural tangent kernel.\n",
        "\n",
        "    Returns:\n",
        "      Synthetic data generated to a spiked covariate model.\n",
        "    \"\"\"\n",
        "\n",
        "    synth_data = {}\n",
        "\n",
        "    synth_data[\"one_hot\"] = False\n",
        "    synth_data[\"batch_size\"] = batch_size\n",
        "\n",
        "    key, train_key, test_key = random.split(key, num=3)\n",
        "    synth_train_dataset = SynthDataset(train_key, n, kappa)\n",
        "    synth_test_dataset = SynthDataset(test_key, n, kappa)\n",
        "\n",
        "    synth_data[\"train_loader\"] = DataLoader(\n",
        "        synth_train_dataset, batch_size, collate_fn=collate_fn\n",
        "    )\n",
        "    synth_data[\"test_loader\"] = DataLoader(\n",
        "        synth_test_dataset, batch_size, collate_fn=collate_fn\n",
        "    )\n",
        "\n",
        "    synth_data[\"train_data\"] = jnp.array(synth_train_dataset.data)\n",
        "    synth_data[\"train_targets\"] = jnp.array(synth_train_dataset.targets)\n",
        "\n",
        "    synth_data[\"test_data\"] = jnp.array(synth_test_dataset.data)\n",
        "    synth_data[\"test_targets\"] = jnp.array(synth_test_dataset.targets)\n",
        "\n",
        "    return synth_data"
      ]
    },
    {
      "cell_type": "markdown",
      "metadata": {
        "id": "YdJdzJ923YZ9"
      },
      "source": [
        "### Download and prepare MNIST dataset"
      ]
    },
    {
      "cell_type": "markdown",
      "metadata": {
        "id": "dUL_ZEe9zeW3"
      },
      "source": [
        "We can use Pytorch to download MNIST in form of a Pytorch tensor."
      ]
    },
    {
      "cell_type": "code",
      "execution_count": 16,
      "metadata": {
        "id": "JtR78Uhfc8v-"
      },
      "outputs": [],
      "source": [
        "%%capture\n",
        "# Download MNIST dataset\n",
        "MNIST_train_dataset = MNIST(\n",
        "    root=\"train_mnist\", train=True, download=True, transform=flattened_numpy\n",
        ")\n",
        "MNIST_test_dataset = MNIST(\n",
        "    root=\"test_mnist\", train=False, download=True, transform=flattened_numpy\n",
        ")"
      ]
    },
    {
      "cell_type": "markdown",
      "metadata": {
        "id": "xbXcOYNGzrE9"
      },
      "source": [
        "Then we define our datasets for training on MNIST. Depending on the avaiable RAM we either use the full dataset or a reduced version of it. Training on reduced datasets induces much higher generalization error however.\n",
        "\n",
        "A thing that will appear often is that we want to keep the data stored in the DataLoader as a Pytorch tensor, because this is very performance efficient when going through batches."
      ]
    },
    {
      "cell_type": "code",
      "execution_count": 17,
      "metadata": {
        "id": "VQ53V1zTJjRD"
      },
      "outputs": [],
      "source": [
        "MNIST = {}\n",
        "\n",
        "# Set batch size\n",
        "batch_size = 32\n",
        "\n",
        "MNIST[\"one_hot\"] = True\n",
        "MNIST[\"batch_size\"] = batch_size\n",
        "\n",
        "# DataLoaders will be used for neural network training\n",
        "MNIST[\"train_loader\"] = DataLoader(\n",
        "    MNIST_train_dataset, batch_size, shuffle=True, collate_fn=collate_fn, drop_last=True\n",
        ")\n",
        "MNIST[\"test_loader\"] = DataLoader(\n",
        "    MNIST_test_dataset, batch_size, shuffle=False, collate_fn=collate_fn, drop_last=True\n",
        ")\n",
        "\n",
        "# JAX device arrays will be used for KRR and general calculations\n",
        "MNIST[\"train_data\"] = jnp.array(MNIST_train_dataset.data).reshape(\n",
        "    len(MNIST_train_dataset), -1\n",
        ")\n",
        "MNIST[\"train_targets\"] = jnp.array(MNIST_train_dataset.targets)\n",
        "\n",
        "MNIST[\"test_data\"] = jnp.array(MNIST_test_dataset.data).reshape(\n",
        "    len(MNIST_test_dataset), -1\n",
        ")\n",
        "MNIST[\"test_targets\"] = jnp.array(MNIST_test_dataset.targets)"
      ]
    },
    {
      "cell_type": "markdown",
      "metadata": {
        "id": "bz5w-HvBKQxE"
      },
      "source": [
        "#### Let's see the MNIST data"
      ]
    },
    {
      "cell_type": "code",
      "execution_count": 18,
      "metadata": {
        "colab": {
          "base_uri": "https://localhost:8080/",
          "height": 276
        },
        "id": "wDDx1mxcD-RT",
        "outputId": "32707992-1685-43f2-8e93-b698c294fe64"
      },
      "outputs": [
        {
          "output_type": "display_data",
          "data": {
            "image/png": "[encoded data removed]",
            "text/plain": [
              "<Figure size 540x288 with 10 Axes>"
            ]
          },
          "metadata": {}
        }
      ],
      "source": [
        "show_ten_random(MNIST[\"train_data\"], MNIST[\"train_targets\"])"
      ]
    },
    {
      "cell_type": "markdown",
      "metadata": {
        "id": "2yFF8dG62Smk"
      },
      "source": [
        "### Generate data for noise experiments"
      ]
    },
    {
      "cell_type": "markdown",
      "metadata": {
        "id": "AAp7s8teSWnS"
      },
      "source": [
        "First we implement a function, that for a given image adds gaussian noise to the high frequency components of a discrete cosine transform and then applies an discrete inverse cosine tranform to get the filtered image."
      ]
    },
    {
      "cell_type": "code",
      "execution_count": 19,
      "metadata": {
        "id": "mgwXiScYvf0_"
      },
      "outputs": [],
      "source": [
        "# Because type 3 dct (idct) is not yet implemented in JAX\n",
        "# this part is written in numpy\n",
        "def HF_noise(image: np.ndarray, F: np.ndarray, tau: float) -> np.ndarray:\n",
        "    \"\"\"\n",
        "    Inserts high frequency noise into image.\n",
        "\n",
        "    Args:\n",
        "      image:\n",
        "      An image in form a of an array with shape (28, 28).\n",
        "      F: \n",
        "      The filter matrix.\n",
        "      tau:\n",
        "      The noisy intensity.\n",
        "\n",
        "    Returns:\n",
        "      An image with gaussian noisy of intensity tau added to the frequencies\n",
        "      specified by F.\n",
        "    \"\"\"\n",
        "\n",
        "    x = np.array(image)\n",
        "    x = x - np.mean(x)\n",
        "    x = x.reshape((28, 28))\n",
        "    x = dct(dct(x, axis=0, norm=\"ortho\"), axis=1, norm=\"ortho\")\n",
        "    Z = np.random.standard_normal((28, 28))\n",
        "    Z = np.multiply(F, Z)\n",
        "    x = x + tau * (sc.linalg.norm(x) / sc.linalg.norm(Z)) * Z\n",
        "    x = idct(idct(x, axis=0, norm=\"ortho\"), axis=1, norm=\"ortho\")\n",
        "    x = x / sc.linalg.norm(x)\n",
        "    x = x.flatten()\n",
        "    return x"
      ]
    },
    {
      "cell_type": "markdown",
      "metadata": {
        "id": "fjRlsnEx9O4V"
      },
      "source": [
        "We define our specific filter matrix via:\n",
        "\n",
        "$$\n",
        "F_{ij}=\n",
        "\\begin{cases}\n",
        "1 \\qquad \\mathrm{if} \\; (k-i)^2 + (k-j)^2 \\leq (k-1)^2 \\\\\n",
        "0 \\qquad \\mathrm{otherwise}\n",
        "\\end{cases}\n",
        "$$\n",
        "for a quadratic image with height and width $k$."
      ]
    },
    {
      "cell_type": "code",
      "execution_count": 20,
      "metadata": {
        "id": "PIae9nK06_dk"
      },
      "outputs": [],
      "source": [
        "# Define filter matrix\n",
        "F = np.zeros((28, 28))\n",
        "for i in range(28):\n",
        "    for j in range(28):\n",
        "        if np.less_equal((28 - i) ** 2 + (28 - j) ** 2, (28 - 1) ** 2):\n",
        "            F[i, j] = 1\n",
        "\n",
        "tau = 1.0\n",
        "\n",
        "\n",
        "def noisify(image):\n",
        "    return HF_noise(image, F, tau)\n",
        "\n",
        "\n",
        "noisy_train_images = [noisify(image) for image in MNIST[\"train_data\"]]"
      ]
    },
    {
      "cell_type": "markdown",
      "metadata": {
        "id": "NPbvazKYliut"
      },
      "source": [
        "#### Let's see what the noisy images looks like"
      ]
    },
    {
      "cell_type": "markdown",
      "metadata": {
        "id": "uyEPKvxcSbML"
      },
      "source": [
        "We visualize ten randomly chosen training images for a noise level of $\\tau =1$"
      ]
    },
    {
      "cell_type": "code",
      "execution_count": 21,
      "metadata": {
        "colab": {
          "base_uri": "https://localhost:8080/",
          "height": 276
        },
        "id": "9umnpvhYUz_O",
        "outputId": "c46083ea-8fa4-4d52-918e-250358a6e5a7"
      },
      "outputs": [
        {
          "output_type": "display_data",
          "data": {
            "image/png": "[encoded data removed]",
            "text/plain": [
              "<Figure size 540x288 with 10 Axes>"
            ]
          },
          "metadata": {}
        }
      ],
      "source": [
        "show_ten_random(noisy_train_images, MNIST[\"train_targets\"])"
      ]
    },
    {
      "cell_type": "markdown",
      "metadata": {
        "id": "kvVVD3Jp--FS"
      },
      "source": [
        "Now, what if we were to choose a much higher noise level like $\\tau=5$ ?"
      ]
    },
    {
      "cell_type": "code",
      "execution_count": 22,
      "metadata": {
        "colab": {
          "base_uri": "https://localhost:8080/",
          "height": 276
        },
        "id": "8Nmx5CCr_MKl",
        "outputId": "ba5d8dc4-1feb-4cd6-98f5-f27d086ac0f9"
      },
      "outputs": [
        {
          "output_type": "display_data",
          "data": {
            "image/png": "[encoded data removed]",
            "text/plain": [
              "<Figure size 540x288 with 10 Axes>"
            ]
          },
          "metadata": {}
        }
      ],
      "source": [
        "tau = 5\n",
        "\n",
        "noisy_train_images = [noisify(image) for image in MNIST[\"train_data\"]]\n",
        "show_ten_random(noisy_train_images, MNIST[\"train_targets\"])"
      ]
    },
    {
      "cell_type": "markdown",
      "metadata": {
        "id": "ngGnTncAldlx"
      },
      "source": [
        "#### Insert high frequency noise into MNIST images"
      ]
    },
    {
      "cell_type": "markdown",
      "metadata": {
        "id": "h5SBfq0jSebs"
      },
      "source": [
        "Now generate MNIST data with various levels of noise. Preparing the data beforehand leads to increased performance especially during multiple runs of experiments. Note that we include the noise level 0, which is identical to the original dataset, for consistency. "
      ]
    },
    {
      "cell_type": "code",
      "execution_count": 23,
      "metadata": {
        "id": "VR91B06C6Kzn"
      },
      "outputs": [],
      "source": [
        "%%capture --no-display\n",
        "\n",
        "noisy_MNIST_sets = []\n",
        "\n",
        "for tau in range(10):\n",
        "\n",
        "    noisy_batch_size = 100\n",
        "\n",
        "    noisy_MNIST = {}\n",
        "\n",
        "    noisy_MNIST['one_hot'] = True\n",
        "    noisy_MNIST[\"batch_size\"] = noisy_batch_size\n",
        "    noisy_MNIST['tau'] = tau\n",
        "\n",
        "  \t# Create training data\n",
        "    noisy_train_images = jnp.array(list(map(noisify, MNIST['train_data'])))\n",
        "\n",
        "    # We have to keep the actual training data as Pytorch tensors for performance\n",
        "    noisy_image_dataset = Imageset(th.from_numpy(np.array(noisy_train_images)), MNIST_train_dataset.targets)\n",
        "\n",
        "    noisy_MNIST['train_data'] = noisy_train_images\n",
        "    noisy_MNIST['train_loader'] = DataLoader(\n",
        "          noisy_image_dataset, noisy_batch_size, shuffle=True, collate_fn=collate_fn, drop_last=True\n",
        "      )\n",
        "    noisy_MNIST['train_targets'] = MNIST['train_targets']\n",
        "\n",
        "  \t# Create test data\n",
        "    noisy_test_images = jnp.array(list(map(noisify, MNIST['test_data'])))\n",
        "\n",
        "    # We have to keep the actual training data as Pytorch tensors for performance\n",
        "    noisy_image_dataset = Imageset(th.from_numpy(np.array(noisy_train_images)), MNIST_train_dataset.targets)\n",
        "\n",
        "    noisy_MNIST['test_data'] = noisy_test_images\n",
        "    noisy_MNIST['test_loader'] = DataLoader(\n",
        "          noisy_image_dataset, noisy_batch_size, shuffle=True, collate_fn=collate_fn, drop_last=True\n",
        "      )\n",
        "    noisy_MNIST['test_targets'] = MNIST['test_targets']\n",
        "\n",
        "    noisy_MNIST_sets.append(noisy_MNIST)"
      ]
    },
    {
      "cell_type": "markdown",
      "metadata": {
        "id": "LQ-RFA7dAG88"
      },
      "source": [
        "To train on low RAM machines we also download 1d-MNIST [(paper)](https://arxiv.org/abs/2011.14439) [(github)](https://github.com/greydanus/mnist1d)."
      ]
    },
    {
      "cell_type": "code",
      "execution_count": 24,
      "metadata": {
        "colab": {
          "base_uri": "https://localhost:8080/"
        },
        "id": "7FIEu3Yx4QG6",
        "outputId": "7ef7bb6d-abce-4a74-f725-1fe299ed3c30"
      },
      "outputs": [
        {
          "output_type": "stream",
          "name": "stdout",
          "text": [
            "Mounted at /content/gdrive\n"
          ]
        }
      ],
      "source": [
        "from google.colab import drive\n",
        "\n",
        "drive.mount(\"/content/gdrive\")\n",
        "import sys\n",
        "\n",
        "path_to_module = \"/content/gdrive/MyDrive/Data\"\n",
        "sys.path.append(path_to_module)\n",
        "from MNIST_1D import gen_MNIST_1D, plot_signals"
      ]
    },
    {
      "cell_type": "code",
      "execution_count": 25,
      "metadata": {
        "id": "VurIPNMauguC"
      },
      "outputs": [],
      "source": [
        "def high_frequency(x: Array, tau: float, n: int) -> Array:\n",
        "    \"\"\"\n",
        "    Inserts high frequency noise into MNIST-1D dataset.\n",
        "\n",
        "    Args:\n",
        "      x:\n",
        "        Dataset of MNIST-1D data.\n",
        "      tau:\n",
        "        The noisy intensity.\n",
        "      n:\n",
        "        The n-upper frequencies to be injected with noise.\n",
        "\n",
        "    Returns:\n",
        "      The MNIST-1D dataset with injected high frequency noise.\n",
        "    \"\"\"\n",
        "\n",
        "    x = dct(x, axis=0, norm=\"ortho\")\n",
        "    Z = np.random.standard_normal(x.shape)\n",
        "    Z[:-n] = 0\n",
        "    x = x + tau * (sc.linalg.norm(x) / sc.linalg.norm(Z)) * Z\n",
        "    x = idct(x, axis=0, norm=\"ortho\")\n",
        "    return x\n",
        "\n",
        "\n",
        "def low__frequency(x: Array, tau: float, n: int) -> Array:\n",
        "    \"\"\"\n",
        "    Inserts low frequency noise into MNIST-1D dataset.\n",
        "\n",
        "    Args:\n",
        "      x:\n",
        "        Dataset of MNIST-1D data.\n",
        "      tau:\n",
        "        The noisy intensity.\n",
        "      n:\n",
        "        The n-lower frequencies to be injected with noise.\n",
        "\n",
        "    Returns:\n",
        "      The MNIST-1D dataset with injected low frequency noise.\n",
        "    \"\"\"\n",
        "\n",
        "    x = dct(x, axis=0, norm=\"ortho\")\n",
        "    Z = np.random.standard_normal(x.shape)\n",
        "    Z[n:] = 0\n",
        "    x = x + tau * (sc.linalg.norm(x) / sc.linalg.norm(Z)) * Z\n",
        "    x = idct(x, axis=0, norm=\"ortho\")\n",
        "    return x"
      ]
    },
    {
      "cell_type": "code",
      "execution_count": 26,
      "metadata": {
        "id": "Vk-NBdQQ-qfO"
      },
      "outputs": [],
      "source": [
        "noisy_MNIST_1D = []\n",
        "for noise in [low__frequency, high_frequency]:\n",
        "    for tau in [0, 0.1, 0.2, 0.3, 0.4, 0.5, 0.6, 0.7, 0.8, 0.9, 1]:\n",
        "        # Set frequency cutoff\n",
        "        n = 10\n",
        "\n",
        "        # Set batch size\n",
        "        batch_size = 100\n",
        "\n",
        "        raw_MNIST_1D = gen_MNIST_1D()\n",
        "\n",
        "        raw_MNIST_1D[\"x\"] = noise(raw_MNIST_1D[\"x\"], tau, n)\n",
        "        raw_MNIST_1D[\"x_test\"] = noise(raw_MNIST_1D[\"x_test\"], tau, n)\n",
        "\n",
        "        MNIST_1D = {}\n",
        "        MNIST_1D[\"frequency\"] = noise.__name__\n",
        "        MNIST_1D[\"tau\"] = tau\n",
        "        MNIST_1D[\"one_hot\"] = True\n",
        "        MNIST_1D[\"batch_size\"] = batch_size\n",
        "        MNIST_1D[\"t\"] = raw_MNIST_1D[\"t\"]\n",
        "\n",
        "        # DataLoaders will be used for neural network training\n",
        "        MNIST_1D[\"train_loader\"] = DataLoader(\n",
        "            Imageset(\n",
        "                th.from_numpy(raw_MNIST_1D[\"x\"]), th.from_numpy(raw_MNIST_1D[\"y\"])\n",
        "            ),\n",
        "            batch_size,\n",
        "            shuffle=True,\n",
        "            collate_fn=collate_fn,\n",
        "            drop_last=True,\n",
        "        )\n",
        "        MNIST_1D[\"test_loader\"] = DataLoader(\n",
        "            Imageset(\n",
        "                th.from_numpy(raw_MNIST_1D[\"x_test\"]),\n",
        "                th.from_numpy(raw_MNIST_1D[\"y_test\"]),\n",
        "            ),\n",
        "            batch_size,\n",
        "            shuffle=False,\n",
        "            collate_fn=collate_fn,\n",
        "            drop_last=True,\n",
        "        )\n",
        "\n",
        "        # JAX device arrays will be used for KRR and general calculations\n",
        "        MNIST_1D[\"train_data\"] = jnp.array(raw_MNIST_1D[\"x\"]).reshape(\n",
        "            len(raw_MNIST_1D[\"x\"]), -1\n",
        "        )\n",
        "        MNIST_1D[\"train_targets\"] = jnp.array(raw_MNIST_1D[\"y\"])\n",
        "\n",
        "        MNIST_1D[\"test_data\"] = jnp.array(raw_MNIST_1D[\"x_test\"]).reshape(\n",
        "            len(raw_MNIST_1D[\"x_test\"]), -1\n",
        "        )\n",
        "        MNIST_1D[\"test_targets\"] = jnp.array(raw_MNIST_1D[\"y_test\"])\n",
        "        noisy_MNIST_1D.append(MNIST_1D)"
      ]
    },
    {
      "cell_type": "markdown",
      "metadata": {
        "id": "9vuCV35eK3xY"
      },
      "source": [
        "#### Visualize MNIST-1D at various noise levels"
      ]
    },
    {
      "cell_type": "code",
      "execution_count": 27,
      "metadata": {
        "colab": {
          "base_uri": "https://localhost:8080/",
          "height": 701
        },
        "id": "iHcp0i27KXpb",
        "outputId": "43471590-bf5d-4246-cf24-348a60f12916"
      },
      "outputs": [
        {
          "output_type": "display_data",
          "data": {
            "image/png": "[encoded data removed]",
            "text/plain": [
              "<Figure size 900x234 with 10 Axes>"
            ]
          },
          "metadata": {}
        },
        {
          "output_type": "display_data",
          "data": {
            "image/png": "[encoded data removed]",
            "text/plain": [
              "<Figure size 900x234 with 10 Axes>"
            ]
          },
          "metadata": {}
        },
        {
          "output_type": "display_data",
          "data": {
            "image/png": "[encoded data removed]",
            "text/plain": [
              "<Figure size 900x234 with 10 Axes>"
            ]
          },
          "metadata": {}
        }
      ],
      "source": [
        "plot_signals(\n",
        "    noisy_MNIST_1D[0][\"train_data\"],\n",
        "    noisy_MNIST_1D[0][\"t\"],\n",
        "    noisy_MNIST_1D[0][\"train_targets\"],\n",
        ")\n",
        "\n",
        "plot_signals(noisy_MNIST_1D[10][\"train_data\"], noisy_MNIST_1D[10][\"t\"])\n",
        "\n",
        "plot_signals(noisy_MNIST_1D[20][\"train_data\"], noisy_MNIST_1D[20][\"t\"])"
      ]
    },
    {
      "cell_type": "markdown",
      "metadata": {
        "id": "AdasvLek3rLR"
      },
      "source": [
        "## Models <a name=\"models\"></a>"
      ]
    },
    {
      "cell_type": "markdown",
      "metadata": {
        "id": "I39c_orbrmLq"
      },
      "source": [
        "#### Performance metrics"
      ]
    },
    {
      "cell_type": "markdown",
      "metadata": {
        "id": "9Un99cDKSlnj"
      },
      "source": [
        "We define two performance metrics. One is the Mean Squared Error:\n",
        "\n",
        "$$\\frac{1}{n} \\sum\\limits_{i=1}^{n} (\\hat{y}_i - y_i)^2$$\n",
        "\n",
        "This will be our objective function with which we will train the network. \n",
        "\n",
        "Additionally we define the Accuracy:\n",
        "\n",
        "$$\\frac{1}{n} \\sum\\limits_{i=1}^{n} (\\hat{y}_i \\wedge y_i)$$\n",
        "\n",
        "We do this because the Mean Squared Error is harder to interpret.\n",
        "\n",
        "Note also that we define different versions in the depending on whether the performance measure will be used during neural network training."
      ]
    },
    {
      "cell_type": "code",
      "execution_count": 28,
      "metadata": {
        "id": "_dDBicrFgGVH"
      },
      "outputs": [],
      "source": [
        "@jit\n",
        "def accuracy(pred_targets: Array, targets: Array):\n",
        "    \"\"\"Calculate accuracy of MLP\"\"\"\n",
        "    pred_targets = jnp.argmax(pred_targets, axis=1)\n",
        "    return jnp.mean(targets == pred_targets)\n",
        "\n",
        "\n",
        "@jit\n",
        "def loss(pred_targets: Array, targets: Array):\n",
        "    \"\"\"Calculate mean square error\"\"\"\n",
        "    if pred_targets.shape[1] > 1:\n",
        "        targets = jax.nn.one_hot(targets, 10)\n",
        "    err = pred_targets - targets\n",
        "    return jnp.mean(jnp.square(err))\n",
        "\n",
        "\n",
        "@jit\n",
        "def accuracy_fn(params: Array, images: Array, targets: Array):\n",
        "    \"\"\"Calculate accuracy of MLP\"\"\"\n",
        "    pred_targets = jnp.argmax(batched_forward(params, images), axis=1)\n",
        "    return jnp.mean(targets == pred_targets)\n",
        "\n",
        "\n",
        "@jit\n",
        "def loss_fn(params: Array, images: Array, targets: Array):\n",
        "    \"\"\"Calculate mean square error for MLP\"\"\"\n",
        "    pred_targets = batched_forward(params, images)\n",
        "    if pred_targets.shape[1] > 1:\n",
        "        targets = jax.nn.one_hot(targets, 10)\n",
        "    err = pred_targets - targets\n",
        "    return jnp.mean(jnp.square(err))"
      ]
    },
    {
      "cell_type": "markdown",
      "metadata": {
        "id": "MA1OFL59Ks0w"
      },
      "source": [
        "### Pure JAX Neural Network"
      ]
    },
    {
      "cell_type": "markdown",
      "metadata": {
        "id": "Bkc72_I7SiEN"
      },
      "source": [
        "In this section we will develop a multilayer perceptron model in pure JAX without addtional libraries. This will give us great control over the network architecture and show us the inner workings of neural network training."
      ]
    },
    {
      "cell_type": "markdown",
      "metadata": {
        "id": "rvML8LZnrqG7"
      },
      "source": [
        "#### Multilayer Perceptron Model"
      ]
    },
    {
      "cell_type": "markdown",
      "metadata": {
        "id": "j_lu1L1j6bqY"
      },
      "source": [
        "For our neural network we will use a fully connected multilayer perceptron."
      ]
    },
    {
      "cell_type": "code",
      "execution_count": 29,
      "metadata": {
        "id": "QfGUinnmexyP"
      },
      "outputs": [],
      "source": [
        "def init_layer(\n",
        "    in_width: int, out_width: int, key: KeyArray, scale: float = 1e-2\n",
        ") -> Union[Array, Array]:\n",
        "    \"\"\"\n",
        "    Initializes one layer of a multilayer perceptron.\n",
        "\n",
        "    Args:\n",
        "      in_width:\n",
        "        Input dimension of the layer.\n",
        "      out_width: \n",
        "        Output dimension of the layer.\n",
        "      key:\n",
        "        The random state.\n",
        "      scale:\n",
        "        Scaling factor for the weights.\n",
        "\n",
        "    Returns:\n",
        "      A 2-tuple consisting of arrays representing weights and biases of the layer.\n",
        "    \"\"\"\n",
        "\n",
        "    key, subkey = random.split(key)\n",
        "    weights = scale * random.normal(\n",
        "        subkey, (out_width, in_width)\n",
        "    )  # simple scaling seems to lead to faster convergence\n",
        "    bias = jnp.zeros(out_width)\n",
        "    return weights, bias\n",
        "\n",
        "\n",
        "def init_mlp(layers: List[int], key: KeyArray) -> List[Array]:\n",
        "    \"\"\"\n",
        "    Initializes a multilayer perceptron.\n",
        "\n",
        "    Args:\n",
        "      layers:\n",
        "        Numbers of neurons in each layer.\n",
        "      key:\n",
        "        The random state.\n",
        "\n",
        "    Returns:\n",
        "      A list of tuples containing the weights and biases of each layer of the mlp.\n",
        "    \"\"\"\n",
        "\n",
        "    key, *keys = random.split(key, len(layers))\n",
        "    params = list(map(init_layer, layers[:-1], layers[1:], keys))\n",
        "    return params"
      ]
    },
    {
      "cell_type": "markdown",
      "metadata": {
        "id": "2aycWxMpgUST"
      },
      "source": [
        "In the next section we will define the forward pass or forward of the neural network. The forward pass refers to the calculation of output values from data. From a mathematical point of view this is nothing else than applying the neural network as a function.\n",
        "\n",
        "Given a two layer neural network with input dimension $d_{in}$, hidden layer size $n$ and output dimension $d_{out}$, we can define the forward pass mathematically as:\n",
        "\n",
        "$$\\Phi_k(x;w,b) = \\sum\\limits_{i=1}^{d_{out}} w_k^i \\sigma\\left(\\sum\\limits_{j=1}^{n} w_{jk}^i + b_k^i \\right)$$\n",
        "\n",
        "where $\\sigma$ is the activation function of the network. Throughout this notebook we will utilize the rectified linear unit (ReLU):\n",
        "\n",
        "$$\\sigma(x) = \\max\\{0, x\\}$$\n",
        "\n",
        "Note also, that we  keep the last layer of our multilayer perceptron linear."
      ]
    },
    {
      "cell_type": "code",
      "execution_count": 30,
      "metadata": {
        "id": "nbjNermue9X8"
      },
      "outputs": [],
      "source": [
        "def forward(params: Tuple, x: Array) -> Array:\n",
        "    \"\"\"\n",
        "    Calculations the forward pass of the mlp.\n",
        "\n",
        "    Args:\n",
        "      params:\n",
        "        The parameters of the multilayer perceptron.\n",
        "      x:\n",
        "        A single instance of input data.\n",
        "\n",
        "    Returns:\n",
        "      The prediction of the neural network given input x.\n",
        "    \"\"\"\n",
        "    activation = x\n",
        "\n",
        "    for weight, bias in params[:-1]:\n",
        "        activation = jax.nn.relu(jnp.dot(weight, activation) + bias)\n",
        "\n",
        "    weight_last, bias_last = params[-1]\n",
        "    logits = jnp.dot(weight_last, activation) + bias_last\n",
        "    return logits\n",
        "\n",
        "\n",
        "# vectorize forward function for batches\n",
        "batched_forward = vmap(forward, in_axes=(None, 0))"
      ]
    },
    {
      "cell_type": "code",
      "execution_count": 31,
      "metadata": {
        "id": "hwqyZSP-Ulv-"
      },
      "outputs": [],
      "source": [
        "@jit\n",
        "def update(params: Tuple, data: Array, target: Array) -> Union[Tuple, float]:\n",
        "    \"\"\"Update parameters by taking one gradient step\n",
        "\n",
        "    Args:\n",
        "      params:\n",
        "        The parameters of the multilayer perceptron.\n",
        "      data:\n",
        "        A batch of training data.\n",
        "      target:\n",
        "        A batch of targets corrosponding to the training data.\n",
        "\n",
        "    Returns:\n",
        "      The updated parameters and current value of the objective function.\n",
        "    \"\"\"\n",
        "\n",
        "    loss, grads = value_and_grad(loss_fn)(params, data, target)\n",
        "    params = jax.tree_multimap(lambda p, g: p - learning_rate * g, params, grads)\n",
        "    return params, loss"
      ]
    },
    {
      "cell_type": "markdown",
      "metadata": {
        "id": "aTHyfLfZVTWW"
      },
      "source": [
        "Next we define the actual training loop for the neural network given MNIST data."
      ]
    },
    {
      "cell_type": "code",
      "execution_count": 32,
      "metadata": {
        "id": "3o_3Dg5bqiBa"
      },
      "outputs": [],
      "source": [
        "def pure_jax_training_loop(\n",
        "    data: Array,\n",
        "    epochs: int,\n",
        "    params: Tuple,\n",
        "    learning_rate: float,\n",
        "    accuracy: bool = False,\n",
        ") -> Union[List, List, List, List]:\n",
        "    \"\"\"\n",
        "    Trains a multilayer perceptron model build in pure jax.\n",
        "\n",
        "    Args:\n",
        "      data:\n",
        "        Training and test data.\n",
        "      epochs:\n",
        "        The number of epochs the loop is to run. One iteration over all batches\n",
        "        in the DataLoader corresponds to one epoch.\n",
        "      params:\n",
        "        The initial parameters of the mlp to be trained.\n",
        "      learning_rate:\n",
        "        The learning rate, or stepsize, used during gradient descent.\n",
        "      accuracy:\n",
        "        A boolean that determines whether accuracy should be computed.\n",
        "\n",
        "\n",
        "    Returns:\n",
        "      List representing the logs of the performance metrics during training.\n",
        "    \"\"\"\n",
        "\n",
        "    # Set up lists for logging\n",
        "    log_train_loss, log_test_loss, log_train_acc, log_test_acc = [], [], [], []\n",
        "\n",
        "    # Log training and test loss for intial parameters\n",
        "    train_loss = loss_fn(params, data[\"train_data\"], data[\"train_targets\"])\n",
        "    test_loss = loss_fn(params, data[\"test_data\"], data[\"test_targets\"])\n",
        "\n",
        "    # Log training and test accuracy for intial parameters\n",
        "    if accuracy:\n",
        "        train_acc = accuracy_fn(params, data[\"train_data\"], data[\"train_targets\"])\n",
        "        test_acc = accuracy_fn(params, data[\"test_data\"], data[\"test_targets\"])\n",
        "        log_train_acc.append(train_acc)\n",
        "        log_test_acc.append(test_acc)\n",
        "\n",
        "        print(\n",
        "            \"Epoch {:2.0f} | Duration: 0.00 | Train Accuracy: {:0.3f} | Test Accuracy: {:0.3f} | Train Loss: {:0.4e} | Test Loss: {:0.4e}\".format(\n",
        "                0, train_acc, test_acc, train_loss, test_loss\n",
        "            )\n",
        "        )\n",
        "    else:\n",
        "        print(\n",
        "            \"Epoch {:2.0f} | Duration: 0.00 | Train Loss: {:0.4e} | Test Loss: {:0.4e}\".format(\n",
        "                0, train_loss, test_loss\n",
        "            )\n",
        "        )\n",
        "\n",
        "    # Loop over training data epochs times\n",
        "    for epoch in range(epochs):\n",
        "        start_time = time.perf_counter()\n",
        "\n",
        "        # Loop over all training batches\n",
        "        for batch_idx, (instance, target) in enumerate(data[\"train_loader\"]):\n",
        "            params, loss = update(params, instance, target)\n",
        "\n",
        "        end_time = time.perf_counter()\n",
        "        epoch_time = end_time - start_time\n",
        "\n",
        "        # Log training and test accuracy for each epoch\n",
        "        train_loss = loss_fn(params, data[\"train_data\"], data[\"train_targets\"])\n",
        "        test_loss = loss_fn(params, data[\"test_data\"], data[\"test_targets\"])\n",
        "        log_train_loss.append(train_loss)\n",
        "        log_test_loss.append(test_loss)\n",
        "\n",
        "        if accuracy:\n",
        "            train_acc = accuracy_fn(params, data[\"train_data\"], data[\"train_targets\"])\n",
        "            test_acc = accuracy_fn(params, data[\"test_data\"], data[\"test_targets\"])\n",
        "            log_train_acc.append(train_acc)\n",
        "            log_test_acc.append(test_acc)\n",
        "            print(\n",
        "                \"Epoch {:2.0f} | Duration: {:0.2f} | Train Accuracy: {:0.3f} | Test Accuracy: {:0.3f} | Train Loss: {:0.4e} | Test Loss: {:0.4e}\".format(\n",
        "                    epoch + 1, epoch_time, train_acc, test_acc, train_loss, test_loss\n",
        "                )\n",
        "            )\n",
        "        else:\n",
        "            print(\n",
        "                \"Epoch {:2.0f} | Duration: {:0.2f} | Train Loss: {:0.4e} | Test Loss: {:0.4e}\".format(\n",
        "                    epoch + 1, epoch_time, train_loss, test_loss\n",
        "                )\n",
        "            )\n",
        "\n",
        "    return log_train_loss, log_test_loss, log_train_acc, log_test_acc"
      ]
    },
    {
      "cell_type": "markdown",
      "metadata": {
        "id": "YZhVpjiJrxZi"
      },
      "source": [
        "#### Test Multilayer perceptron on MNIST"
      ]
    },
    {
      "cell_type": "code",
      "execution_count": 33,
      "metadata": {
        "colab": {
          "base_uri": "https://localhost:8080/"
        },
        "id": "zWJxVHpf1FlH",
        "outputId": "b9ca5040-e7f5-456b-d998-1f7b898833f7"
      },
      "outputs": [
        {
          "output_type": "stream",
          "name": "stdout",
          "text": [
            "Epoch  0 | Duration: 0.00 | Train Accuracy: 0.109 | Test Accuracy: 0.107 | Train Loss: 6.9509e+01 | Test Loss: 7.0119e+01\n",
            "Epoch  1 | Duration: 5.11 | Train Accuracy: 0.323 | Test Accuracy: 0.327 | Train Loss: 1.0243e-01 | Test Loss: 1.0003e-01\n",
            "Epoch  2 | Duration: 4.79 | Train Accuracy: 0.496 | Test Accuracy: 0.497 | Train Loss: 7.7893e-02 | Test Loss: 7.7030e-02\n",
            "Epoch  3 | Duration: 4.81 | Train Accuracy: 0.576 | Test Accuracy: 0.576 | Train Loss: 6.4660e-02 | Test Loss: 6.4324e-02\n",
            "Epoch  4 | Duration: 4.82 | Train Accuracy: 0.621 | Test Accuracy: 0.621 | Train Loss: 5.7141e-02 | Test Loss: 5.7007e-02\n",
            "Epoch  5 | Duration: 4.77 | Train Accuracy: 0.658 | Test Accuracy: 0.657 | Train Loss: 5.2347e-02 | Test Loss: 5.2504e-02\n",
            "Epoch  6 | Duration: 4.70 | Train Accuracy: 0.695 | Test Accuracy: 0.689 | Train Loss: 4.8282e-02 | Test Loss: 4.8639e-02\n",
            "Epoch  7 | Duration: 4.72 | Train Accuracy: 0.727 | Test Accuracy: 0.721 | Train Loss: 4.4422e-02 | Test Loss: 4.4826e-02\n",
            "Epoch  8 | Duration: 4.72 | Train Accuracy: 0.752 | Test Accuracy: 0.746 | Train Loss: 4.1290e-02 | Test Loss: 4.1750e-02\n",
            "Epoch  9 | Duration: 4.72 | Train Accuracy: 0.779 | Test Accuracy: 0.772 | Train Loss: 3.8388e-02 | Test Loss: 3.8895e-02\n",
            "Epoch 10 | Duration: 4.73 | Train Accuracy: 0.824 | Test Accuracy: 0.827 | Train Loss: 3.5112e-02 | Test Loss: 3.5504e-02\n",
            "Epoch 11 | Duration: 4.72 | Train Accuracy: 0.841 | Test Accuracy: 0.844 | Train Loss: 3.2585e-02 | Test Loss: 3.2854e-02\n",
            "Epoch 12 | Duration: 4.71 | Train Accuracy: 0.853 | Test Accuracy: 0.857 | Train Loss: 3.0947e-02 | Test Loss: 3.1195e-02\n",
            "Epoch 13 | Duration: 4.68 | Train Accuracy: 0.860 | Test Accuracy: 0.865 | Train Loss: 2.9666e-02 | Test Loss: 2.9863e-02\n",
            "Epoch 14 | Duration: 4.74 | Train Accuracy: 0.867 | Test Accuracy: 0.871 | Train Loss: 2.8677e-02 | Test Loss: 2.8898e-02\n",
            "Epoch 15 | Duration: 4.71 | Train Accuracy: 0.872 | Test Accuracy: 0.875 | Train Loss: 2.7847e-02 | Test Loss: 2.8091e-02\n",
            "Epoch 16 | Duration: 4.71 | Train Accuracy: 0.876 | Test Accuracy: 0.880 | Train Loss: 2.7173e-02 | Test Loss: 2.7457e-02\n",
            "Epoch 17 | Duration: 4.75 | Train Accuracy: 0.879 | Test Accuracy: 0.882 | Train Loss: 2.6561e-02 | Test Loss: 2.6854e-02\n",
            "Epoch 18 | Duration: 4.70 | Train Accuracy: 0.882 | Test Accuracy: 0.885 | Train Loss: 2.6048e-02 | Test Loss: 2.6375e-02\n",
            "Epoch 19 | Duration: 4.71 | Train Accuracy: 0.885 | Test Accuracy: 0.887 | Train Loss: 2.5599e-02 | Test Loss: 2.5943e-02\n",
            "Epoch 20 | Duration: 4.71 | Train Accuracy: 0.888 | Test Accuracy: 0.890 | Train Loss: 2.5182e-02 | Test Loss: 2.5555e-02\n",
            "Epoch 21 | Duration: 4.69 | Train Accuracy: 0.888 | Test Accuracy: 0.889 | Train Loss: 2.4848e-02 | Test Loss: 2.5230e-02\n",
            "Epoch 22 | Duration: 4.71 | Train Accuracy: 0.891 | Test Accuracy: 0.892 | Train Loss: 2.4476e-02 | Test Loss: 2.4897e-02\n",
            "Epoch 23 | Duration: 4.74 | Train Accuracy: 0.893 | Test Accuracy: 0.895 | Train Loss: 2.4197e-02 | Test Loss: 2.4652e-02\n",
            "Epoch 24 | Duration: 4.71 | Train Accuracy: 0.895 | Test Accuracy: 0.895 | Train Loss: 2.3898e-02 | Test Loss: 2.4379e-02\n",
            "Epoch 25 | Duration: 4.69 | Train Accuracy: 0.896 | Test Accuracy: 0.897 | Train Loss: 2.3643e-02 | Test Loss: 2.4113e-02\n",
            "Epoch 26 | Duration: 4.73 | Train Accuracy: 0.896 | Test Accuracy: 0.896 | Train Loss: 2.3426e-02 | Test Loss: 2.3948e-02\n",
            "Epoch 27 | Duration: 4.66 | Train Accuracy: 0.899 | Test Accuracy: 0.899 | Train Loss: 2.3147e-02 | Test Loss: 2.3675e-02\n",
            "Epoch 28 | Duration: 4.72 | Train Accuracy: 0.899 | Test Accuracy: 0.899 | Train Loss: 2.2957e-02 | Test Loss: 2.3469e-02\n",
            "Epoch 29 | Duration: 4.73 | Train Accuracy: 0.900 | Test Accuracy: 0.900 | Train Loss: 2.2741e-02 | Test Loss: 2.3283e-02\n",
            "Epoch 30 | Duration: 4.71 | Train Accuracy: 0.902 | Test Accuracy: 0.902 | Train Loss: 2.2549e-02 | Test Loss: 2.3125e-02\n",
            "Epoch 31 | Duration: 4.68 | Train Accuracy: 0.903 | Test Accuracy: 0.903 | Train Loss: 2.2369e-02 | Test Loss: 2.2930e-02\n",
            "Epoch 32 | Duration: 4.68 | Train Accuracy: 0.904 | Test Accuracy: 0.904 | Train Loss: 2.2186e-02 | Test Loss: 2.2771e-02\n",
            "Epoch 33 | Duration: 4.75 | Train Accuracy: 0.904 | Test Accuracy: 0.905 | Train Loss: 2.2011e-02 | Test Loss: 2.2605e-02\n",
            "Epoch 34 | Duration: 4.71 | Train Accuracy: 0.905 | Test Accuracy: 0.904 | Train Loss: 2.1902e-02 | Test Loss: 2.2521e-02\n",
            "Epoch 35 | Duration: 4.65 | Train Accuracy: 0.906 | Test Accuracy: 0.905 | Train Loss: 2.1726e-02 | Test Loss: 2.2338e-02\n",
            "Epoch 36 | Duration: 4.73 | Train Accuracy: 0.907 | Test Accuracy: 0.907 | Train Loss: 2.1570e-02 | Test Loss: 2.2203e-02\n",
            "Epoch 37 | Duration: 4.72 | Train Accuracy: 0.908 | Test Accuracy: 0.908 | Train Loss: 2.1468e-02 | Test Loss: 2.2100e-02\n",
            "Epoch 38 | Duration: 4.68 | Train Accuracy: 0.909 | Test Accuracy: 0.908 | Train Loss: 2.1331e-02 | Test Loss: 2.1966e-02\n",
            "Epoch 39 | Duration: 4.70 | Train Accuracy: 0.909 | Test Accuracy: 0.907 | Train Loss: 2.1217e-02 | Test Loss: 2.1858e-02\n",
            "Epoch 40 | Duration: 4.74 | Train Accuracy: 0.910 | Test Accuracy: 0.908 | Train Loss: 2.1075e-02 | Test Loss: 2.1732e-02\n",
            "Epoch 41 | Duration: 4.67 | Train Accuracy: 0.910 | Test Accuracy: 0.910 | Train Loss: 2.0972e-02 | Test Loss: 2.1633e-02\n",
            "Epoch 42 | Duration: 4.68 | Train Accuracy: 0.911 | Test Accuracy: 0.910 | Train Loss: 2.0913e-02 | Test Loss: 2.1578e-02\n",
            "Epoch 43 | Duration: 4.71 | Train Accuracy: 0.911 | Test Accuracy: 0.910 | Train Loss: 2.0759e-02 | Test Loss: 2.1443e-02\n",
            "Epoch 44 | Duration: 4.72 | Train Accuracy: 0.911 | Test Accuracy: 0.910 | Train Loss: 2.0671e-02 | Test Loss: 2.1356e-02\n",
            "Epoch 45 | Duration: 4.68 | Train Accuracy: 0.912 | Test Accuracy: 0.911 | Train Loss: 2.0545e-02 | Test Loss: 2.1233e-02\n",
            "Epoch 46 | Duration: 4.71 | Train Accuracy: 0.913 | Test Accuracy: 0.911 | Train Loss: 2.0447e-02 | Test Loss: 2.1146e-02\n",
            "Epoch 47 | Duration: 4.72 | Train Accuracy: 0.913 | Test Accuracy: 0.911 | Train Loss: 2.0360e-02 | Test Loss: 2.1078e-02\n",
            "Epoch 48 | Duration: 4.69 | Train Accuracy: 0.914 | Test Accuracy: 0.912 | Train Loss: 2.0257e-02 | Test Loss: 2.0981e-02\n",
            "Epoch 49 | Duration: 4.66 | Train Accuracy: 0.914 | Test Accuracy: 0.912 | Train Loss: 2.0194e-02 | Test Loss: 2.0906e-02\n",
            "Epoch 50 | Duration: 4.73 | Train Accuracy: 0.914 | Test Accuracy: 0.914 | Train Loss: 2.0096e-02 | Test Loss: 2.0824e-02\n"
          ]
        }
      ],
      "source": [
        "# Hyperparameters\n",
        "learning_rate = 1e-4\n",
        "epochs = 50\n",
        "layers = [784, 4096, 10]\n",
        "\n",
        "key, subkey = random.split(key)\n",
        "params = init_mlp(layers, subkey)\n",
        "\n",
        "train_loss, test_loss, train_acc, test_acc = pure_jax_training_loop(\n",
        "    MNIST, epochs, params, learning_rate=learning_rate, accuracy=True,\n",
        ")"
      ]
    },
    {
      "cell_type": "code",
      "execution_count": 34,
      "metadata": {
        "colab": {
          "base_uri": "https://localhost:8080/",
          "height": 707
        },
        "id": "AqqIuihrJtXt",
        "outputId": "6ebf50a0-bff8-4377-c9b1-08bd2719bfc1"
      },
      "outputs": [
        {
          "output_type": "display_data",
          "data": {
            "image/png": "[encoded data removed]",
            "text/plain": [
              "<Figure size 1080x720 with 4 Axes>"
            ]
          },
          "metadata": {}
        }
      ],
      "source": [
        "plt_nn_training(train_loss, test_loss, train_acc, test_acc)"
      ]
    },
    {
      "cell_type": "markdown",
      "metadata": {
        "id": "OUzzUeKKzioH"
      },
      "source": [
        "#### Test Multilayer perceptron on synthetic data"
      ]
    },
    {
      "cell_type": "markdown",
      "metadata": {
        "id": "y57CDkNHMI5i"
      },
      "source": [
        "First we generate some synthetic data for a test run"
      ]
    },
    {
      "cell_type": "code",
      "execution_count": 35,
      "metadata": {
        "id": "FSCCTi5GVTpt"
      },
      "outputs": [],
      "source": [
        "kappa = 0.1\n",
        "n = 10000\n",
        "batch_size = 1000\n",
        "\n",
        "key, subkey = random.split(key)\n",
        "synth_data = gen_synth(subkey, kappa, n, batch_size)"
      ]
    },
    {
      "cell_type": "markdown",
      "metadata": {
        "id": "67nN7zKMWRHU"
      },
      "source": [
        "Then run Neural Network on the synthetic data"
      ]
    },
    {
      "cell_type": "code",
      "execution_count": 36,
      "metadata": {
        "colab": {
          "base_uri": "https://localhost:8080/"
        },
        "id": "6N8-Il8WMJVA",
        "outputId": "e0f20450-63a0-4973-afce-76b6f0118b1d"
      },
      "outputs": [
        {
          "output_type": "stream",
          "name": "stdout",
          "text": [
            "Epoch  0 | Duration: 0.00 | Train Loss: 3.5975e-01 | Test Loss: 3.6758e-01\n",
            "Epoch  1 | Duration: 0.56 | Train Loss: 1.4249e-01 | Test Loss: 1.4430e-01\n",
            "Epoch  2 | Duration: 0.05 | Train Loss: 1.0202e-01 | Test Loss: 1.0221e-01\n",
            "Epoch  3 | Duration: 0.05 | Train Loss: 8.1257e-02 | Test Loss: 8.0925e-02\n",
            "Epoch  4 | Duration: 0.05 | Train Loss: 6.7642e-02 | Test Loss: 6.7105e-02\n",
            "Epoch  5 | Duration: 0.05 | Train Loss: 5.8431e-02 | Test Loss: 5.7807e-02\n",
            "Epoch  6 | Duration: 0.05 | Train Loss: 5.2135e-02 | Test Loss: 5.1480e-02\n",
            "Epoch  7 | Duration: 0.05 | Train Loss: 4.7783e-02 | Test Loss: 4.7129e-02\n",
            "Epoch  8 | Duration: 0.05 | Train Loss: 4.4732e-02 | Test Loss: 4.4096e-02\n",
            "Epoch  9 | Duration: 0.05 | Train Loss: 4.2550e-02 | Test Loss: 4.1944e-02\n",
            "Epoch 10 | Duration: 0.05 | Train Loss: 4.0952e-02 | Test Loss: 4.0383e-02\n",
            "Epoch 11 | Duration: 0.05 | Train Loss: 3.9748e-02 | Test Loss: 3.9217e-02\n",
            "Epoch 12 | Duration: 0.04 | Train Loss: 3.8809e-02 | Test Loss: 3.8318e-02\n",
            "Epoch 13 | Duration: 0.04 | Train Loss: 3.8051e-02 | Test Loss: 3.7600e-02\n",
            "Epoch 14 | Duration: 0.05 | Train Loss: 3.7417e-02 | Test Loss: 3.7004e-02\n",
            "Epoch 15 | Duration: 0.05 | Train Loss: 3.6868e-02 | Test Loss: 3.6492e-02\n",
            "Epoch 16 | Duration: 0.05 | Train Loss: 3.6378e-02 | Test Loss: 3.6039e-02\n",
            "Epoch 17 | Duration: 0.04 | Train Loss: 3.5932e-02 | Test Loss: 3.5626e-02\n",
            "Epoch 18 | Duration: 0.04 | Train Loss: 3.5516e-02 | Test Loss: 3.5243e-02\n",
            "Epoch 19 | Duration: 0.05 | Train Loss: 3.5124e-02 | Test Loss: 3.4882e-02\n",
            "Epoch 20 | Duration: 0.05 | Train Loss: 3.4749e-02 | Test Loss: 3.4537e-02\n"
          ]
        }
      ],
      "source": [
        "# Hyperparameters\n",
        "learning_rate = 1e-4\n",
        "epochs = 20\n",
        "layers = [1024, 4096, 1]\n",
        "\n",
        "key, subkey = random.split(key)\n",
        "params = init_mlp(layers, subkey)\n",
        "\n",
        "train_loss, test_loss, _, _ = pure_jax_training_loop(\n",
        "    synth_data, epochs, params, learning_rate=learning_rate, accuracy=False,\n",
        ")"
      ]
    },
    {
      "cell_type": "code",
      "execution_count": 37,
      "metadata": {
        "colab": {
          "base_uri": "https://localhost:8080/",
          "height": 411
        },
        "id": "6-vAPmaUKJ9p",
        "outputId": "ec068fe4-bf53-4600-c1dd-05b45f823404"
      },
      "outputs": [
        {
          "output_type": "display_data",
          "data": {
            "image/png": "[encoded data removed]",
            "text/plain": [
              "<Figure size 1080x720 with 2 Axes>"
            ]
          },
          "metadata": {}
        }
      ],
      "source": [
        "plt_nn_training(train_loss, test_loss)"
      ]
    },
    {
      "cell_type": "markdown",
      "metadata": {
        "id": "own-GQuDy9V5"
      },
      "source": [
        "### STAX and OPTAX Neural Network"
      ]
    },
    {
      "cell_type": "markdown",
      "metadata": {
        "id": "DDc7ob7xSqjW"
      },
      "source": [
        "In this section we set up a multilayer perceptron model programmed with the help of STAX. STAX is a library that provides a convinient way to formulate serial models.\n",
        "\n",
        "In our case we will use the STAX version implemented in the neural-tangent liberary to get the neural tangent kernel associated to a given neural network."
      ]
    },
    {
      "cell_type": "code",
      "execution_count": 38,
      "metadata": {
        "id": "3-W5cQDpgtrl"
      },
      "outputs": [],
      "source": [
        "def two_layer_nn(\n",
        "    batch_size: float,\n",
        "    hidden_width: int = 4096,\n",
        "    out_width: int = 10,\n",
        "    in_width: int = 784,\n",
        "    key: KeyArray = random.PRNGKey(42),\n",
        ") -> Union[Array, Callable, Callable]:\n",
        "    \"\"\"\n",
        "    Initializes a two layer multi layer perceptron. The weights and biases\n",
        "    are initialized according to neural tangent initialization.\n",
        "\n",
        "    Args:\n",
        "      hidden_width:\n",
        "        Number of neurons in the hidden layer.\n",
        "      in_width: \n",
        "        Input dimension of the layer.\n",
        "      out_width: \n",
        "        Output dimension of the layer.\n",
        "      key:\n",
        "        The random state.\n",
        "\n",
        "    Returns:\n",
        "      Initial parameters of the mlp, the forward pass of the mlp and\n",
        "      the kernel function associated with the architecture. The kernel function\n",
        "      can be used to compute both neural tangent kernel,\n",
        "      as well as neural network gaussian process kernel.\n",
        "    \"\"\"\n",
        "\n",
        "    init_fn, apply_fn, kernel_fn = stax.serial(\n",
        "        stax.Dense(hidden_width), stax.Relu(), stax.Dense(out_width)\n",
        "    )\n",
        "\n",
        "    _, params = init_fn(key, (batch_size, in_width))\n",
        "    return params, apply_fn, kernel_fn"
      ]
    },
    {
      "cell_type": "code",
      "execution_count": 39,
      "metadata": {
        "id": "Gh9XumEXe58X"
      },
      "outputs": [],
      "source": [
        "def ntk_fn(\n",
        "    apply_fn: Callable,\n",
        "    kernel_fn: Callable,\n",
        "    params: Tuple,\n",
        "    data: Array,\n",
        "    learning_rate: float,\n",
        ") -> Union[Array, Array]:\n",
        "    \"\"\"\n",
        "    Sets up a neural tangent kernel and uses it to predict\n",
        "    targets of both training and test data.\n",
        "\n",
        "    Args:\n",
        "      apply_fn:\n",
        "        The forward pass function of a neural network.\n",
        "      kernel_fn:\n",
        "        The kernel function associated to a neural network.\n",
        "     data:\n",
        "        Training and test data.\n",
        "\n",
        "    Returns:\n",
        "      Predictions interfered by the neural tangent kernel.\n",
        "    \"\"\"\n",
        "\n",
        "    kernel = nt.batch(kernel_fn, device_count=-1, batch_size=data[\"batch_size\"])\n",
        "\n",
        "    # Generate empirical kernel\n",
        "    ntk_train_train = kernel(data[\"train_data\"], None, \"ntk\")\n",
        "    ntk_test_train = kernel(data[\"test_data\"], data[\"train_data\"], \"ntk\")\n",
        "\n",
        "    # Derive prediction function from analytical solution of ntk trained by SGD\n",
        "    if data[\"one_hot\"]:\n",
        "        train_targets = jax.nn.one_hot(data[\"train_targets\"], 10)\n",
        "    else:\n",
        "        train_targets = data[\"train_targets\"]\n",
        "    predict = nt.predict.gradient_descent_mse(\n",
        "        ntk_train_train, train_targets, learning_rate=learning_rate,\n",
        "    )\n",
        "    # Get initial targets for ntk\n",
        "    ntk_train_0 = apply_fn(params, data[\"train_data\"])\n",
        "    ntk_test_0 = apply_fn(params, data[\"test_data\"])\n",
        "\n",
        "    # Get ntk prediction\n",
        "    ntk_yhat_train, ntk_yhat_test = predict(\n",
        "        t=None,  # None equals training for infinite time\n",
        "        fx_train_0=ntk_train_0,\n",
        "        fx_test_0=ntk_test_0,\n",
        "        k_test_train=ntk_test_train,\n",
        "    )\n",
        "    return ntk_yhat_train, ntk_yhat_test"
      ]
    },
    {
      "cell_type": "code",
      "execution_count": 40,
      "metadata": {
        "id": "9CpCJRObUSJb"
      },
      "outputs": [],
      "source": [
        "def training_loop(\n",
        "    data: Array,\n",
        "    epochs: int,\n",
        "    params: Tuple,\n",
        "    forward: Callable,\n",
        "    initial_learning_rate: float,\n",
        "    verbose: bool = False,\n",
        "    calc_acc: bool = False,\n",
        ") -> Union[List, List, List, List, Array]:\n",
        "    \"\"\"\n",
        "    Trains a multilayer perceptron model build in the neural tangents\n",
        "    implementation of stax and calculations the corrosponding empirical neural\n",
        "    tangents kernel given the current parameters of the network.\n",
        "\n",
        "    Args:\n",
        "      data:\n",
        "        Training and test data.\n",
        "      epochs:\n",
        "        The number of epochs the loop is to run. One iteration over all batches\n",
        "        in the DataLoader corresponds to one epoch.\n",
        "      params:\n",
        "        The initial parameters of the mlp to be trained.\n",
        "      initial_learning_rate:\n",
        "        The initial learning rate used during gradient descent. \n",
        "        This value serves as the starting point of the scheduler.\n",
        "        The schedule determines the evolution of the learning rate during training.\n",
        "      forward:\n",
        "        The forward pass function of the instatiated mlp architecture.\n",
        "      verbose:\n",
        "        A boolean that determines whether to print performances during training.\n",
        "      accuracy:\n",
        "        A boolean that determines whether accuracy should be computed.\n",
        "\n",
        "\n",
        "    Returns:\n",
        "      List representing the logs of the performance metrics during training \n",
        "      and the final paramaters of the neural network.\n",
        "    \"\"\"\n",
        "\n",
        "    @jit\n",
        "    def loss_fn(params, data, target):\n",
        "        \"\"\"Calculate mean square error of MLP predictions\"\"\"\n",
        "        target_pred = forward(params, data)\n",
        "        if target_pred.shape[1] > 1:\n",
        "            target = jax.nn.one_hot(target, 10)\n",
        "        loss = jnp.mean(optax.l2_loss(target_pred, target))\n",
        "        return loss\n",
        "\n",
        "    @jit\n",
        "    def update(params, data, target, opt_state):\n",
        "        \"\"\"Update parameters by taking one gradient step\"\"\"\n",
        "        loss, grad = value_and_grad(loss_fn)(params, data, target)\n",
        "        updates, opt_state = gradient_transform.update(grad, opt_state, params)\n",
        "        params = optax.apply_updates(params, updates)\n",
        "        return params, opt_state, loss\n",
        "\n",
        "    # Cosine decay of the learning rate with warm up period\n",
        "    scheduler = optax.warmup_cosine_decay_schedule(\n",
        "        init_value=initial_learning_rate,\n",
        "        peak_value=1 / 15,\n",
        "        warmup_steps=15 * len(data[\"train_loader\"]),\n",
        "        decay_steps=epochs * len(data[\"train_loader\"]),\n",
        "    )\n",
        "\n",
        "    # Combining gradient transforms using optax.chain\n",
        "    gradient_transform = optax.chain(\n",
        "        optax.clip_by_global_norm(1.0),\n",
        "        optax.scale_by_adam(),\n",
        "        optax.add_decayed_weights(0.001),\n",
        "        optax.scale_by_schedule(scheduler),\n",
        "        optax.scale(-1.0),\n",
        "    )\n",
        "\n",
        "    opt_state = gradient_transform.init(params)\n",
        "\n",
        "    log_train_loss, log_test_loss, log_ntk_train_loss, log_ntk_test_loss = (\n",
        "        [],\n",
        "        [],\n",
        "        [],\n",
        "        [],\n",
        "    )\n",
        "    log_train_acc, log_test_acc, log_ntk_train_acc, log_ntk_test_acc = [], [], [], []\n",
        "\n",
        "    # Loop over training data\n",
        "    for epoch in range(epochs):\n",
        "        start_time = time.perf_counter()\n",
        "        for batch_idx, (instance, target) in enumerate(data[\"train_loader\"]):\n",
        "            params, opt_state, train_loss = update(params, instance, target, opt_state)\n",
        "\n",
        "        train_loss = loss_fn(params, data[\"train_data\"], data[\"train_targets\"])\n",
        "        test_loss = loss_fn(params, data[\"test_data\"], data[\"test_targets\"])\n",
        "        log_train_loss.append(train_loss)\n",
        "        log_test_loss.append(test_loss)\n",
        "\n",
        "        train_acc = accuracy(forward(params, data[\"train_data\"]), data[\"train_targets\"])\n",
        "        test_acc = accuracy(forward(params, data[\"test_data\"]), data[\"test_targets\"])\n",
        "\n",
        "        log_train_acc.append(train_acc)\n",
        "        log_test_acc.append(test_acc)\n",
        "\n",
        "        end_time = time.perf_counter()\n",
        "        epoch_time = end_time - start_time\n",
        "\n",
        "        if verbose:\n",
        "            if calc_acc:\n",
        "                print(\n",
        "                    \"Epoch {:2.0f} | Duration: {:0.2f} | NN Train Accuracy: {:0.3f} | \"\n",
        "                    \"NN Accuracy: {:0.3f}\".format(\n",
        "                        epoch + 1, epoch_time, train_acc, test_acc,\n",
        "                    )\n",
        "                )\n",
        "            else:\n",
        "                print(\n",
        "                    \"Epoch {:2.0f} | Duration: {:0.2f} | NN Train Loss: {:0.4e} | \"\n",
        "                    \"NN Test Loss: {:0.4e}\".format(\n",
        "                        epoch + 1, epoch_time, train_loss, test_loss,\n",
        "                    )\n",
        "                )\n",
        "\n",
        "    return (\n",
        "        log_train_loss,\n",
        "        log_test_loss,\n",
        "        log_train_acc,\n",
        "        log_test_acc,\n",
        "        params,\n",
        "    )"
      ]
    },
    {
      "cell_type": "markdown",
      "metadata": {
        "id": "LGkM5kLaxEhe"
      },
      "source": [
        "Now let us try out this new architecture and also see how it compares to its neural tangent kernel. For that we will use the MNIST-1D dataset."
      ]
    },
    {
      "cell_type": "code",
      "execution_count": 41,
      "metadata": {
        "colab": {
          "base_uri": "https://localhost:8080/"
        },
        "id": "dMaDUFFU087p",
        "outputId": "64b9a9bc-6bc0-4050-d584-5029d499d91c"
      },
      "outputs": [
        {
          "output_type": "stream",
          "name": "stdout",
          "text": [
            "Accuracy 1.000 NN train | Accuracy 1.000 NTK train\n",
            "Accuracy 0.538 NN test  | Accuracy 0.497 NTK test\n"
          ]
        }
      ],
      "source": [
        "# Hyperparameters\n",
        "learning_rate = 1e-3\n",
        "epochs = 100\n",
        "init_params, forward, kernel = two_layer_nn(\n",
        "    batch_size=noisy_MNIST_1D[0][\"batch_size\"], in_width=40\n",
        ")\n",
        "\n",
        "(\n",
        "    log_train_loss,\n",
        "    log_test_loss,\n",
        "    log_train_acc,\n",
        "    log_test_acc,\n",
        "    final_params,\n",
        ") = training_loop(\n",
        "    noisy_MNIST_1D[0],\n",
        "    epochs,\n",
        "    init_params,\n",
        "    forward=forward,\n",
        "    initial_learning_rate=learning_rate,\n",
        "    verbose=False,\n",
        "    calc_acc=True,\n",
        ")\n",
        "\n",
        "yhat_train_init, yhat_test_init = ntk_fn(\n",
        "    forward, kernel, init_params, noisy_MNIST_1D[0], learning_rate,\n",
        ")\n",
        "\n",
        "print(\n",
        "    \"Accuracy {:0.3f} NN train | Accuracy {:0.3f} NTK train\".format(\n",
        "        log_train_acc[-1], accuracy(yhat_train_init, noisy_MNIST_1D[0][\"train_targets\"])\n",
        "    )\n",
        ")\n",
        "print(\n",
        "    \"Accuracy {:0.3f} NN test  | Accuracy {:0.3f} NTK test\".format(\n",
        "        log_test_acc[-1], accuracy(yhat_test_init, noisy_MNIST_1D[0][\"test_targets\"])\n",
        "    )\n",
        ")"
      ]
    },
    {
      "cell_type": "code",
      "execution_count": 42,
      "metadata": {
        "colab": {
          "base_uri": "https://localhost:8080/",
          "height": 411
        },
        "id": "OpPbo9P43xzO",
        "outputId": "905e4317-2725-46dd-fe9c-e3b2fe1c7284"
      },
      "outputs": [
        {
          "output_type": "display_data",
          "data": {
            "image/png": "[encoded data removed]",
            "text/plain": [
              "<Figure size 1080x720 with 2 Axes>"
            ]
          },
          "metadata": {}
        }
      ],
      "source": [
        "plt_nn_training(log_train_acc, log_test_acc)"
      ]
    },
    {
      "cell_type": "markdown",
      "metadata": {
        "id": "K88hnlhhK-26"
      },
      "source": [
        "### Kernel Ridge Regression"
      ]
    },
    {
      "cell_type": "code",
      "execution_count": 43,
      "metadata": {
        "id": "rgS_FwUdUI2G"
      },
      "outputs": [],
      "source": [
        "@partial(jit, static_argnums=(6, 7,))\n",
        "def krr(\n",
        "    train_data: Array,\n",
        "    test_data: Array,\n",
        "    train_targets: Array,\n",
        "    d: int,\n",
        "    lambda_: float,\n",
        "    params: Union[float, Tuple[float, float]],\n",
        "    kernel: str,\n",
        ") -> Union[Array, Array]:\n",
        "    \"\"\"\n",
        "    Uses kernel ridge regression to predict targets given training and test data.\n",
        "\n",
        "    Args:\n",
        "      data:\n",
        "        Training and test data.\n",
        "      lambda_:\n",
        "        Tikhonov factor for regularization in kernel ridge regression.\n",
        "      kernel:\n",
        "        The type of feature map to be used.\n",
        "\n",
        "    Returns:\n",
        "      Target predictions for training and test data.\n",
        "\n",
        "    Raises:\n",
        "      Invalid kernel: A non-implement kernel type was chosen.\n",
        "    \"\"\"\n",
        "\n",
        "    def polynomial(z, params):\n",
        "        \"\"\"Polynomial kernel function\"\"\"\n",
        "        c, d = params\n",
        "        return jnp.power(z + c, d)\n",
        "\n",
        "    def rbf(z, params):\n",
        "        \"\"\"radial basis kernel function\"\"\"\n",
        "        length_scale = params\n",
        "        return jnp.exp(-z / jnp.square(length_scale))\n",
        "\n",
        "    if kernel == \"polynomial\":\n",
        "        k = jit(polynomial)\n",
        "    elif kernel == \"rbf\":\n",
        "        k = jit(rbf)\n",
        "    else:\n",
        "        raise Exception(\"Invalid kernel\")\n",
        "\n",
        "    def gram(P, Q, h, d, params):\n",
        "        \"\"\"Generate Gram matrix for kernel\"\"\"\n",
        "        g = vmap(h, in_axes=(0, None))\n",
        "        return g(jnp.dot(P, jnp.transpose(Q)) / d, params)\n",
        "\n",
        "    def regularize(G, reg):\n",
        "        \"\"\"Regularize by adding constant on diagonal without in-place updates\"\"\"\n",
        "        N, _ = G.shape\n",
        "        i, j = jnp.diag_indices(N)\n",
        "        return G.at[i, j].set(G[i, j] + reg)\n",
        "\n",
        "    def gram_func(P, Q):\n",
        "        return gram(P, Q, k, d, params)\n",
        "\n",
        "    # Generate Gram matrices for training and test data\n",
        "    gram_train = gram_func(train_data, train_data)\n",
        "    gram_test = gram_func(test_data, train_data)\n",
        "\n",
        "    regularized_gram_train = regularize(gram_train, lambda_)\n",
        "\n",
        "    beta = jnp.linalg.solve(regularized_gram_train, train_targets)\n",
        "\n",
        "    # Generate predictions from kernel ridge regression\n",
        "    yhat_train = jnp.dot(gram_train, beta)\n",
        "    yhat_test = jnp.dot(gram_test, beta)\n",
        "\n",
        "    return yhat_train, yhat_test"
      ]
    },
    {
      "cell_type": "markdown",
      "metadata": {
        "id": "EQ4ofpFDu5jw"
      },
      "source": [
        "#### Hyperparameter tuning"
      ]
    },
    {
      "cell_type": "markdown",
      "metadata": {
        "id": "VDQ_KlOxvPEw"
      },
      "source": [
        "Next we perform hyperparamater tuning for both gaussian and polynomial kernels. Because kernel ridge regression is very memory intensive we will implement this serial via several loops instead of vectorizing it."
      ]
    },
    {
      "cell_type": "code",
      "execution_count": 44,
      "metadata": {
        "id": "ClOQNTwe7h0B"
      },
      "outputs": [],
      "source": [
        "def is_nan(x: Any) -> bool:\n",
        "    return (x is np.nan or x != x)"
      ]
    },
    {
      "cell_type": "code",
      "execution_count": 45,
      "metadata": {
        "id": "e9rLvMgp0LAB"
      },
      "outputs": [],
      "source": [
        "def rbf_tuning(data: Array, k: float = 0.1) -> Union[Dict, List[Dict]]:\n",
        "    \"\"\"\n",
        "    Runs k fold cross validation to optimize hyperparameters\n",
        "    of rbf kernel regression.     \n",
        "\n",
        "    Args:\n",
        "      data:\n",
        "        Training dataset to optimize hyperparameters on. \n",
        "      k:\n",
        "        Proportion of the training data to be used for cross validation.\n",
        "\n",
        "    Returns:\n",
        "      Dict with optimal parameters and loss values,\n",
        "      as well as list of all parameters logs.\n",
        "    \"\"\"\n",
        "    logs = []\n",
        "    for lambda_ in [0.0, 0.001, 0.01, 0.1, 1, 10]:\n",
        "        for gamma in [0.0, 0.001, 0.01, 0.1, 1, 10]:\n",
        "            log = {\"lambda\": lambda_, \"gamma\": gamma}\n",
        "\n",
        "            (\n",
        "                train_data,\n",
        "                validation_data,\n",
        "                train_targets,\n",
        "                validation_targets,\n",
        "            ) = train_test_split(data[\"train_data\"], data[\"train_targets\"], test_size=k)\n",
        "\n",
        "            if data[\"one_hot\"]:\n",
        "                krr_train_targets = jax.nn.one_hot(train_targets, 10)\n",
        "            else:\n",
        "                krr_train_targets = train_targets\n",
        "\n",
        "            yhat_train, yhat_val = krr(\n",
        "                train_data=train_data,\n",
        "                test_data=validation_data,\n",
        "                train_targets=krr_train_targets,\n",
        "                d=2,\n",
        "                lambda_=lambda_,\n",
        "                params=gamma,\n",
        "                kernel=\"rbf\",\n",
        "            )\n",
        "\n",
        "            # Log errors\n",
        "            log[\"train_accuracy\"] = accuracy(yhat_train, train_targets)\n",
        "            log[\"validation_accuracy\"] = accuracy(yhat_val, validation_targets)\n",
        "            logs.append(log)\n",
        "    return (\n",
        "        sorted(\n",
        "            logs,\n",
        "            key=lambda d: float(\"-inf\")\n",
        "            if is_nan(d[\"validation_accuracy\"])\n",
        "            else d[\"validation_accuracy\"],\n",
        "        )[-1],\n",
        "        logs,\n",
        "    )"
      ]
    },
    {
      "cell_type": "code",
      "execution_count": 46,
      "metadata": {
        "id": "xHXhr4d133XC"
      },
      "outputs": [],
      "source": [
        "def polynomial_tuning(data: Array, k: float = 0.1) -> Union[Dict, List[Dict]]:\n",
        "    \"\"\"\n",
        "    Runs k fold cross validation to optimize hyperparameters\n",
        "    of polynomial kernel regression.     \n",
        "\n",
        "    Args:\n",
        "      data:\n",
        "        Training dataset to optimize hyperparameters on. \n",
        "      k:\n",
        "        Proportion of the training data to be used for cross validation.\n",
        "\n",
        "    Returns:\n",
        "      Dict with optimal parameters and loss values,\n",
        "      as well as list of all parameters logs.\n",
        "    \"\"\"\n",
        "    logs = []\n",
        "    for lambda_ in [0.0, 0.001, 0.01, 0.1, 1, 10]:\n",
        "        for c in range(11):\n",
        "            for n in range(11):\n",
        "                log = {\"lambda\": lambda_, \"c\": c, \"n\": n}\n",
        "                params = (c, n)\n",
        "\n",
        "                (\n",
        "                    train_data,\n",
        "                    validation_data,\n",
        "                    train_targets,\n",
        "                    validation_targets,\n",
        "                ) = train_test_split(\n",
        "                    data[\"train_data\"], data[\"train_targets\"], test_size=k\n",
        "                )\n",
        "\n",
        "                if data[\"one_hot\"]:\n",
        "                    krr_train_targets = jax.nn.one_hot(train_targets, 10)\n",
        "                else:\n",
        "                    krr_train_targets = train_targets\n",
        "\n",
        "                yhat_train, yhat_val = krr(\n",
        "                    train_data=train_data,\n",
        "                    test_data=validation_data,\n",
        "                    train_targets=krr_train_targets,\n",
        "                    d=2,\n",
        "                    lambda_=lambda_,\n",
        "                    params=params,\n",
        "                    kernel=\"polynomial\",\n",
        "                )\n",
        "\n",
        "                # Log errors\n",
        "                log[\"train_error\"] = loss(yhat_train, train_targets)\n",
        "                log[\"validation_error\"] = loss(yhat_val, validation_targets)\n",
        "                logs.append(log)\n",
        "    return (\n",
        "        sorted(\n",
        "            logs,\n",
        "            key=lambda d: float(\"inf\")\n",
        "            if is_nan(d[\"validation_error\"])\n",
        "            else d[\"validation_error\"],\n",
        "        )[0],\n",
        "        logs,\n",
        "    )"
      ]
    },
    {
      "cell_type": "code",
      "execution_count": 47,
      "metadata": {
        "id": "WjBJwAIJ7R5U"
      },
      "outputs": [],
      "source": [
        "noise_params, noise_params_log = polynomial_tuning(noisy_MNIST_1D[0])\n",
        "\n",
        "synth_params, synth_params_log = polynomial_tuning(synth_data)"
      ]
    },
    {
      "cell_type": "code",
      "execution_count": 48,
      "metadata": {
        "colab": {
          "base_uri": "https://localhost:8080/"
        },
        "id": "8Jl_nld4WsR4",
        "outputId": "8a4c810d-1a9b-4de1-b2fe-143b8e66e649"
      },
      "outputs": [
        {
          "output_type": "stream",
          "name": "stdout",
          "text": [
            "{'lambda': 10, 'c': 9, 'n': 2, 'train_error': DeviceArray(0.05408179, dtype=float32), 'validation_error': DeviceArray(0.07361087, dtype=float32)}\n",
            "{'lambda': 0.0, 'c': 10, 'n': 4, 'train_error': DeviceArray(7.063696e-16, dtype=float32), 'validation_error': DeviceArray(0.00010444, dtype=float32)}\n"
          ]
        }
      ],
      "source": [
        "print(noise_params)\n",
        "\n",
        "print(synth_params)"
      ]
    },
    {
      "cell_type": "markdown",
      "metadata": {
        "id": "pFgjgwP4K50P"
      },
      "source": [
        "## Noise data experiments <a name=\"noise\"></a>"
      ]
    },
    {
      "cell_type": "markdown",
      "metadata": {
        "id": "X1sVf7iURldI"
      },
      "source": [
        "### Run experiment for noise data"
      ]
    },
    {
      "cell_type": "code",
      "execution_count": 49,
      "metadata": {
        "id": "tf3JGeN4RkuZ"
      },
      "outputs": [],
      "source": [
        "def run_noise_experiments(\n",
        "    noisy_data: List[Dict], key: KeyArray = random.PRNGKey(1789),\n",
        ") -> Union[List, List, List, List, List, List]:\n",
        "    \"\"\"\n",
        "    Runs experiments comparing the performance of mlps and kernel methods \n",
        "    on MNIST training data injected with additive gaussian on noise\n",
        "    on the high frequency modes of a discrete cosine transform.\n",
        "\n",
        "    Args:\n",
        "       noisy_data:\n",
        "        A list containing MNIST datasets with various noisy levels injected.\n",
        "      key:\n",
        "        The random state for the experiments to be run in. \n",
        "        The state should be fixed for experiments to guarantee \n",
        "        consistency of the experiments. \n",
        "\n",
        "    Returns:\n",
        "      List representing the logs of the accuracy of kernel ridge regression and\n",
        "      fully trained neural networks during training.\n",
        "    \"\"\"\n",
        "\n",
        "    learning_rate = 1e-3\n",
        "    epochs = 100\n",
        "\n",
        "    (\n",
        "        log_krr_train_acc,\n",
        "        log_krr_test_acc,\n",
        "        log_ntk_train_acc,\n",
        "        log_ntk_test_acc,\n",
        "        log_nn_train_acc,\n",
        "        log_nn_test_acc,\n",
        "    ) = (\n",
        "        [],\n",
        "        [],\n",
        "        [],\n",
        "        [],\n",
        "        [],\n",
        "        [],\n",
        "    )\n",
        "\n",
        "    for data in noisy_data:\n",
        "\n",
        "        freq = data[\"frequency\"]\n",
        "        tau = data[\"tau\"]\n",
        "\n",
        "        one_hot = jit(vmap(lambda x: jax.nn.one_hot(x, 10)))\n",
        "        train_one_hot = one_hot(data[\"train_targets\"])\n",
        "        test_one_hot = one_hot(data[\"test_targets\"])\n",
        "\n",
        "        params, forward, kernel = two_layer_nn(batch_size=data['batch_size'], in_width=40)\n",
        "\n",
        "        # Train neural network on noisy data\n",
        "        (\n",
        "            log_train_loss,\n",
        "            log_test_loss,\n",
        "            log_train_acc,\n",
        "            log_test_acc,\n",
        "            params,\n",
        "        ) = training_loop(\n",
        "            data,\n",
        "            epochs,\n",
        "            params,\n",
        "            forward,\n",
        "            initial_learning_rate=learning_rate,\n",
        "            verbose=False,\n",
        "        )\n",
        "\n",
        "        # Perform kernel ridge regression for noisy data\n",
        "        yhat_train, yhat_test = krr(\n",
        "            data[\"train_data\"],\n",
        "            data[\"test_data\"],\n",
        "            train_one_hot,\n",
        "            d=2,\n",
        "            lambda_=noise_params['lambda'],\n",
        "            params=(noise_params['c'],\n",
        "            noise_params['n']),\n",
        "            kernel=\"polynomial\",\n",
        "        )\n",
        "\n",
        "        yhat_train_ntk, yhat_test_ntk = ntk_fn(\n",
        "            forward, kernel, params, data, learning_rate,\n",
        "        )\n",
        "        # Log accs\n",
        "        krr_train_acc = accuracy(yhat_train, data[\"train_targets\"])\n",
        "        krr_test_acc = accuracy(yhat_test, data[\"test_targets\"])\n",
        "        ntk_train_acc = accuracy(yhat_train_ntk, data[\"train_targets\"])\n",
        "        ntk_test_acc = accuracy(yhat_test_ntk, data[\"test_targets\"])\n",
        "        nn_train_acc = accuracy(\n",
        "            forward(params, data[\"train_data\"]), data[\"train_targets\"]\n",
        "        )\n",
        "        nn_test_acc = accuracy(\n",
        "            forward(params, data[\"test_data\"]), data[\"test_targets\"]\n",
        "        )\n",
        "\n",
        "        log_krr_train_acc.append(krr_train_acc)\n",
        "        log_krr_test_acc.append(krr_test_acc)\n",
        "        log_ntk_train_acc.append(ntk_train_acc)\n",
        "        log_ntk_test_acc.append(ntk_test_acc)\n",
        "        log_nn_train_acc.append(nn_train_acc)\n",
        "        log_nn_test_acc.append(nn_test_acc)\n",
        "\n",
        "        print(\n",
        "            \"{} | Tau {:0.2f} | KRR train acc\"\n",
        "            \" {:0.3f} | KRR test acc {:0.3f} | NTK train acc {:0.2f} | \"\n",
        "            \"NTK test acc {:0.2f} | NN train acc {:0.2f} | \"\n",
        "            \"NN test acc {:0.2f}\".format(\n",
        "                freq,\n",
        "                tau,\n",
        "                krr_train_acc,\n",
        "                krr_test_acc,\n",
        "                ntk_train_acc,\n",
        "                ntk_test_acc,\n",
        "                nn_train_acc,\n",
        "                nn_test_acc,\n",
        "            )\n",
        "        )\n",
        "\n",
        "    return (\n",
        "        log_krr_train_acc,\n",
        "        log_krr_test_acc,\n",
        "        log_ntk_train_acc,\n",
        "        log_ntk_test_acc,\n",
        "        log_nn_train_acc,\n",
        "        log_nn_test_acc,\n",
        "    )"
      ]
    },
    {
      "cell_type": "code",
      "execution_count": 50,
      "metadata": {
        "colab": {
          "base_uri": "https://localhost:8080/"
        },
        "id": "YfV7vuEcVyHP",
        "outputId": "c8fddcdd-7d55-464e-ae8f-1da17b44728c"
      },
      "outputs": [
        {
          "output_type": "stream",
          "name": "stdout",
          "text": [
            "low__frequency | Tau 0.00 | KRR train acc 0.771 | KRR test acc 0.519 | NTK train acc 1.00 | NTK test acc 0.54 | NN train acc 1.00 | NN test acc 0.54\n",
            "low__frequency | Tau 0.10 | KRR train acc 0.778 | KRR test acc 0.500 | NTK train acc 1.00 | NTK test acc 0.51 | NN train acc 1.00 | NN test acc 0.52\n",
            "low__frequency | Tau 0.20 | KRR train acc 0.790 | KRR test acc 0.450 | NTK train acc 1.00 | NTK test acc 0.49 | NN train acc 1.00 | NN test acc 0.49\n",
            "low__frequency | Tau 0.30 | KRR train acc 0.785 | KRR test acc 0.396 | NTK train acc 1.00 | NTK test acc 0.43 | NN train acc 1.00 | NN test acc 0.43\n",
            "low__frequency | Tau 0.40 | KRR train acc 0.785 | KRR test acc 0.350 | NTK train acc 1.00 | NTK test acc 0.38 | NN train acc 1.00 | NN test acc 0.38\n",
            "low__frequency | Tau 0.50 | KRR train acc 0.787 | KRR test acc 0.306 | NTK train acc 1.00 | NTK test acc 0.34 | NN train acc 1.00 | NN test acc 0.34\n",
            "low__frequency | Tau 0.60 | KRR train acc 0.787 | KRR test acc 0.269 | NTK train acc 1.00 | NTK test acc 0.30 | NN train acc 1.00 | NN test acc 0.30\n",
            "low__frequency | Tau 0.70 | KRR train acc 0.789 | KRR test acc 0.234 | NTK train acc 1.00 | NTK test acc 0.27 | NN train acc 1.00 | NN test acc 0.27\n",
            "low__frequency | Tau 0.80 | KRR train acc 0.788 | KRR test acc 0.207 | NTK train acc 1.00 | NTK test acc 0.24 | NN train acc 1.00 | NN test acc 0.24\n",
            "low__frequency | Tau 0.90 | KRR train acc 0.791 | KRR test acc 0.191 | NTK train acc 1.00 | NTK test acc 0.23 | NN train acc 1.00 | NN test acc 0.23\n",
            "low__frequency | Tau 1.00 | KRR train acc 0.792 | KRR test acc 0.172 | NTK train acc 1.00 | NTK test acc 0.22 | NN train acc 1.00 | NN test acc 0.21\n",
            "high_frequency | Tau 0.00 | KRR train acc 0.771 | KRR test acc 0.519 | NTK train acc 1.00 | NTK test acc 0.55 | NN train acc 1.00 | NN test acc 0.54\n",
            "high_frequency | Tau 0.10 | KRR train acc 0.771 | KRR test acc 0.499 | NTK train acc 1.00 | NTK test acc 0.52 | NN train acc 1.00 | NN test acc 0.53\n",
            "high_frequency | Tau 0.20 | KRR train acc 0.775 | KRR test acc 0.464 | NTK train acc 1.00 | NTK test acc 0.49 | NN train acc 1.00 | NN test acc 0.49\n",
            "high_frequency | Tau 0.30 | KRR train acc 0.782 | KRR test acc 0.408 | NTK train acc 1.00 | NTK test acc 0.45 | NN train acc 1.00 | NN test acc 0.44\n",
            "high_frequency | Tau 0.40 | KRR train acc 0.781 | KRR test acc 0.356 | NTK train acc 1.00 | NTK test acc 0.39 | NN train acc 1.00 | NN test acc 0.40\n",
            "high_frequency | Tau 0.50 | KRR train acc 0.785 | KRR test acc 0.307 | NTK train acc 1.00 | NTK test acc 0.34 | NN train acc 1.00 | NN test acc 0.35\n",
            "high_frequency | Tau 0.60 | KRR train acc 0.781 | KRR test acc 0.268 | NTK train acc 1.00 | NTK test acc 0.31 | NN train acc 1.00 | NN test acc 0.30\n",
            "high_frequency | Tau 0.70 | KRR train acc 0.782 | KRR test acc 0.245 | NTK train acc 1.00 | NTK test acc 0.27 | NN train acc 1.00 | NN test acc 0.28\n",
            "high_frequency | Tau 0.80 | KRR train acc 0.781 | KRR test acc 0.217 | NTK train acc 1.00 | NTK test acc 0.25 | NN train acc 1.00 | NN test acc 0.26\n",
            "high_frequency | Tau 0.90 | KRR train acc 0.784 | KRR test acc 0.197 | NTK train acc 1.00 | NTK test acc 0.23 | NN train acc 1.00 | NN test acc 0.23\n",
            "high_frequency | Tau 1.00 | KRR train acc 0.785 | KRR test acc 0.184 | NTK train acc 1.00 | NTK test acc 0.21 | NN train acc 1.00 | NN test acc 0.21\n"
          ]
        }
      ],
      "source": [
        "(\n",
        "    log_krr_train_acc,\n",
        "    log_krr_test_acc,\n",
        "    log_ntk_train_acc,\n",
        "    log_ntk_test_acc,\n",
        "    log_nn_train_acc,\n",
        "    log_nn_test_acc,\n",
        ") = run_noise_experiments(noisy_MNIST_1D,)"
      ]
    },
    {
      "cell_type": "markdown",
      "metadata": {
        "id": "8ORmeSAAyBAz"
      },
      "source": [
        "We can see that there is hardly difference in performance between the neural network and its neural tangent kernel. This is line with the [results of Arora et. al.](https://arxiv.org/abs/1910.01663), that neural tangent kernels are competitive in the small data regime. "
      ]
    },
    {
      "cell_type": "code",
      "execution_count": 51,
      "metadata": {
        "colab": {
          "base_uri": "https://localhost:8080/",
          "height": 411
        },
        "id": "eRGlsMcLgYgq",
        "outputId": "1989633f-4a91-4347-bbe2-5c56369d73b8"
      },
      "outputs": [
        {
          "output_type": "display_data",
          "data": {
            "image/png": "[encoded data removed]",
            "text/plain": [
              "<Figure size 1080x720 with 2 Axes>"
            ]
          },
          "metadata": {}
        }
      ],
      "source": [
        "plt_noise_experiment(\n",
        "    log_nn_test_acc,\n",
        "    log_ntk_test_acc,\n",
        "    log_krr_test_acc,\n",
        ")"
      ]
    },
    {
      "cell_type": "markdown",
      "metadata": {
        "id": "fEQdvetUbvU8"
      },
      "source": [
        "## Synthetic data experiments <a name=\"synthetic\"></a>"
      ]
    },
    {
      "cell_type": "markdown",
      "metadata": {
        "id": "0Gi6MEcPtFfN"
      },
      "source": [
        "### Run synthetic data experiments"
      ]
    },
    {
      "cell_type": "code",
      "execution_count": 52,
      "metadata": {
        "id": "cxfgj7Ry7r2X"
      },
      "outputs": [],
      "source": [
        "def run_synth_experiments(\n",
        "    experiment_key: KeyArray = random.PRNGKey(1453),\n",
        "    kappas: Iterable = jnp.linspace(0, 0.9, 10),\n",
        ") -> Union[List, List, List, List, List, List]:\n",
        "    \"\"\"\n",
        "    Runs experiments comparing the performance of mlps and kernel methods \n",
        "    on synthetic training data generated according to a spiked covariates model.\n",
        "\n",
        "    Args:\n",
        "      key:\n",
        "        The random state for the experiments to be run in. \n",
        "        The state should be fixed for experiments to guarantee \n",
        "        consistency of the experiments. \n",
        "      K:\n",
        "        The kappa values to run the experiments for.\n",
        "\n",
        "    Returns:\n",
        "      List representing the logs of the mean squared errors\n",
        "      of kernel ridge regression and fully trained neural networks during training.\n",
        "    \"\"\"\n",
        "\n",
        "    # Hyperparameters\n",
        "    learning_rate = 1e-3\n",
        "    epochs = 100\n",
        "    n = 10000\n",
        "    batch_size = 100\n",
        "\n",
        "    # Lists for logging\n",
        "    (\n",
        "        log_krr_train_error,\n",
        "        log_krr_test_error,\n",
        "        log_ntk_train_error,\n",
        "        log_ntk_test_error,\n",
        "        log_nn_train_error,\n",
        "        log_nn_test_error,\n",
        "    ) = (\n",
        "        [],\n",
        "        [],\n",
        "        [],\n",
        "        [],\n",
        "        [],\n",
        "        [],\n",
        "    )\n",
        "\n",
        "    for kappa in kappas:\n",
        "        # Instatiate the network during each run to reset paramaters\n",
        "        params, forward, kernel = two_layer_nn(\n",
        "            batch_size=batch_size, in_width=1024, out_width=1\n",
        "        )\n",
        "\n",
        "        # Generate and prepare synthetic data for experiment\n",
        "        data = gen_synth(experiment_key, kappa, n, batch_size)\n",
        "\n",
        "        # Train neural network on synthetic data\n",
        "        (\n",
        "            log_train_loss,\n",
        "            log_test_loss,\n",
        "            log_train_acc,\n",
        "            log_test_acc,\n",
        "            params,\n",
        "        ) = training_loop(\n",
        "            data,\n",
        "            epochs,\n",
        "            params,\n",
        "            forward=forward,\n",
        "            initial_learning_rate=learning_rate,\n",
        "            verbose=False,\n",
        "        )\n",
        "\n",
        "        # Perform kernel ridge regression on synthetic data\n",
        "        yhat_train, yhat_test = krr(\n",
        "            data[\"train_data\"],\n",
        "            data[\"test_data\"],\n",
        "            data[\"train_targets\"],\n",
        "            d=2,\n",
        "            lambda_=synth_params[\"lambda\"],\n",
        "            params=(synth_params[\"c\"], synth_params[\"n\"]),\n",
        "            kernel=\"polynomial\",\n",
        "        )\n",
        "\n",
        "        yhat_train_ntk, yhat_test_ntk = ntk_fn(\n",
        "            forward, kernel, params, data, learning_rate,\n",
        "        )\n",
        "\n",
        "        # Log errors\n",
        "        krr_train_error = loss(yhat_train, data[\"train_targets\"])\n",
        "        krr_test_error = loss(yhat_test, data[\"test_targets\"])\n",
        "        ntk_train_error = loss(yhat_train_ntk, data[\"train_targets\"])\n",
        "        ntk_test_error = loss(yhat_test_ntk, data[\"test_targets\"])\n",
        "        nn_train_error = log_train_loss[-1]\n",
        "        nn_test_error = log_test_loss[-1]\n",
        "\n",
        "        log_krr_train_error.append(krr_train_error)\n",
        "        log_krr_test_error.append(krr_test_error)\n",
        "        log_ntk_train_error.append(ntk_train_error)\n",
        "        log_ntk_test_error.append(ntk_test_error)\n",
        "        log_nn_train_error.append(nn_train_error)\n",
        "        log_nn_test_error.append(nn_test_error)\n",
        "\n",
        "        print(\n",
        "            \"kappa {:0.1f} | KRR train loss\"\n",
        "            \" {:0.4e} | KRR test loss {:0.4e} | NTK train loss\"\n",
        "            \" {:0.4e} | NTK test loss {:0.4e} | NN train loss {:0.4e} | \"\n",
        "            \"NN test loss {:0.4e}\".format(\n",
        "                kappa,\n",
        "                krr_train_error,\n",
        "                krr_test_error,\n",
        "                ntk_train_error,\n",
        "                ntk_test_error,\n",
        "                nn_train_error,\n",
        "                nn_test_error,\n",
        "            )\n",
        "        )\n",
        "\n",
        "    return (\n",
        "        log_krr_train_error,\n",
        "        log_krr_test_error,\n",
        "        log_ntk_train_error,\n",
        "        log_ntk_test_error,\n",
        "        log_nn_train_error,\n",
        "        log_nn_test_error,\n",
        "    )"
      ]
    },
    {
      "cell_type": "code",
      "execution_count": 53,
      "metadata": {
        "colab": {
          "base_uri": "https://localhost:8080/"
        },
        "id": "vR-_ty9tCCrm",
        "outputId": "5b450562-d2c5-4241-bcd3-72477c651bee"
      },
      "outputs": [
        {
          "output_type": "stream",
          "name": "stdout",
          "text": [
            "kappa 0.0 | KRR train loss 5.1918e-16 | KRR test loss 2.9330e-04 | NTK train loss 0.0000e+00 | NTK test loss 3.3615e-04 | NN train loss 8.6188e-06 | NN test loss 1.7187e-04\n",
            "kappa 0.1 | KRR train loss 7.9977e-16 | KRR test loss 3.1322e-04 | NTK train loss 0.0000e+00 | NTK test loss 3.4606e-04 | NN train loss 1.5258e-06 | NN test loss 1.7401e-04\n",
            "kappa 0.2 | KRR train loss 2.0967e-15 | KRR test loss 3.3349e-04 | NTK train loss 0.0000e+00 | NTK test loss 3.3342e-04 | NN train loss 1.8096e-05 | NN test loss 1.7286e-04\n",
            "kappa 0.3 | KRR train loss 6.8414e-15 | KRR test loss 3.4992e-04 | NTK train loss 0.0000e+00 | NTK test loss 3.6197e-04 | NN train loss 5.3986e-06 | NN test loss 1.8428e-04\n",
            "kappa 0.4 | KRR train loss 2.8873e-14 | KRR test loss 3.6109e-04 | NTK train loss 0.0000e+00 | NTK test loss 3.6350e-04 | NN train loss 5.2248e-06 | NN test loss 1.8462e-04\n",
            "kappa 0.5 | KRR train loss 1.1542e-13 | KRR test loss 3.6780e-04 | NTK train loss 0.0000e+00 | NTK test loss 3.6849e-04 | NN train loss 5.5272e-06 | NN test loss 1.8642e-04\n",
            "kappa 0.6 | KRR train loss 5.0018e-13 | KRR test loss 3.7151e-04 | NTK train loss 0.0000e+00 | NTK test loss 3.6300e-04 | NN train loss 5.6547e-06 | NN test loss 1.8353e-04\n",
            "kappa 0.7 | KRR train loss 1.9748e-12 | KRR test loss 3.7346e-04 | NTK train loss 0.0000e+00 | NTK test loss 3.6095e-04 | NN train loss 5.7690e-06 | NN test loss 1.8282e-04\n",
            "kappa 0.8 | KRR train loss 7.8231e-12 | KRR test loss 3.7446e-04 | NTK train loss 0.0000e+00 | NTK test loss 3.5601e-04 | NN train loss 5.6807e-06 | NN test loss 1.8004e-04\n",
            "kappa 0.9 | KRR train loss 3.3910e-11 | KRR test loss 3.7492e-04 | NTK train loss 0.0000e+00 | NTK test loss 3.5575e-04 | NN train loss 6.3070e-06 | NN test loss 1.7973e-04\n"
          ]
        }
      ],
      "source": [
        "key, subkey = random.split(key)\n",
        "(   \n",
        "    log_krr_train_error,\n",
        "    log_krr_test_error,\n",
        "    log_ntk_train_error,\n",
        "    log_ntk_test_error,\n",
        "    log_nn_train_error,\n",
        "    log_nn_test_error,\n",
        ") = run_synth_experiments(subkey)"
      ]
    },
    {
      "cell_type": "code",
      "execution_count": 54,
      "metadata": {
        "colab": {
          "base_uri": "https://localhost:8080/",
          "height": 411
        },
        "id": "pGbV6huTqOgR",
        "outputId": "3f04ec5e-d5b3-4df8-dd39-7248f3a1e115"
      },
      "outputs": [
        {
          "output_type": "display_data",
          "data": {
            "image/png": "[encoded data removed]",
            "text/plain": [
              "<Figure size 1080x720 with 1 Axes>"
            ]
          },
          "metadata": {}
        }
      ],
      "source": [
        "plt_synth_experiment(\n",
        "    log_nn_test_error,\n",
        "    log_ntk_test_error,\n",
        "    log_krr_test_error,\n",
        ")"
      ]
    },
    {
      "cell_type": "code",
      "source": [
        ""
      ],
      "metadata": {
        "id": "RRCuteCEerZD"
      },
      "execution_count": 54,
      "outputs": []
    }
  ],
  "metadata": {
    "accelerator": "GPU",
    "colab": {
      "collapsed_sections": [],
      "machine_shape": "hm",
      "name": "linearized_nn_OP_2022_01_05.ipynb",
      "provenance": []
    },
    "kernelspec": {
      "display_name": "Python 3 (ipykernel)",
      "language": "python",
      "name": "python3"
    },
    "language_info": {
      "codemirror_mode": {
        "name": "ipython",
        "version": 3
      },
      "file_extension": ".py",
      "mimetype": "text/x-python",
      "name": "python",
      "nbconvert_exporter": "python",
      "pygments_lexer": "ipython3",
      "version": "3.8.12"
    }
  },
  "nbformat": 4,
  "nbformat_minor": 0
}